{
 "cells": [
  {
   "cell_type": "code",
   "execution_count": 3,
   "id": "66da9764",
   "metadata": {},
   "outputs": [],
   "source": [
    "%load_ext autoreload\n",
    "%autoreload 2"
   ]
  },
  {
   "cell_type": "code",
   "execution_count": 4,
   "id": "b30d32c7",
   "metadata": {},
   "outputs": [],
   "source": [
    "import os\n",
    "import kagglehub\n",
    "import pathlib\n",
    "import pandas as pd\n",
    "import seaborn as sns\n",
    "import matplotlib.pyplot as plt\n",
    "import numpy as np"
   ]
  },
  {
   "cell_type": "markdown",
   "id": "d0e8de36",
   "metadata": {},
   "source": [
    "# Load data"
   ]
  },
  {
   "cell_type": "code",
   "execution_count": 5,
   "id": "5d013b7e",
   "metadata": {},
   "outputs": [
    {
     "name": "stdout",
     "output_type": "stream",
     "text": [
      "✅ Data loaded successfully\n"
     ]
    }
   ],
   "source": [
    "ROOT_PATH = pathlib.Path().resolve().parent\n",
    "# Get the parent directory of the current working directory\n",
    "raw_data_path = os.path.join(ROOT_PATH, 'raw_data', 'Loan_Default.csv')\n",
    "# Load the data into a DataFrame\n",
    "if os.path.exists(raw_data_path):\n",
    "    data = pd.read_csv(raw_data_path)\n",
    "    print(\"✅ Data loaded successfully\")\n",
    "else:\n",
    "    raise FileNotFoundError(f\"The file {raw_data_path} does not exist. Please check the path.\")"
   ]
  },
  {
   "cell_type": "code",
   "execution_count": 6,
   "id": "90319ae5",
   "metadata": {},
   "outputs": [],
   "source": [
    "data=pd.read_csv(f'{raw_data_path}')"
   ]
  },
  {
   "cell_type": "code",
   "execution_count": 7,
   "id": "cc65183d-1cef-41cf-bda8-0cc33bae835a",
   "metadata": {},
   "outputs": [
    {
     "name": "stdout",
     "output_type": "stream",
     "text": [
      "data shape: (148670, 34)\n"
     ]
    }
   ],
   "source": [
    "print(f\"data shape: {data.shape}\")"
   ]
  },
  {
   "cell_type": "markdown",
   "id": "c5e582cc",
   "metadata": {},
   "source": [
    "# Data exploration"
   ]
  },
  {
   "cell_type": "code",
   "execution_count": 37,
   "id": "be3b72ac",
   "metadata": {},
   "outputs": [
    {
     "data": {
      "text/html": [
       "<div>\n",
       "<style scoped>\n",
       "    .dataframe tbody tr th:only-of-type {\n",
       "        vertical-align: middle;\n",
       "    }\n",
       "\n",
       "    .dataframe tbody tr th {\n",
       "        vertical-align: top;\n",
       "    }\n",
       "\n",
       "    .dataframe thead th {\n",
       "        text-align: right;\n",
       "    }\n",
       "</style>\n",
       "<table border=\"1\" class=\"dataframe\">\n",
       "  <thead>\n",
       "    <tr style=\"text-align: right;\">\n",
       "      <th></th>\n",
       "      <th>ID</th>\n",
       "      <th>year</th>\n",
       "      <th>loan_limit</th>\n",
       "      <th>Gender</th>\n",
       "      <th>approv_in_adv</th>\n",
       "      <th>loan_type</th>\n",
       "      <th>loan_purpose</th>\n",
       "      <th>Credit_Worthiness</th>\n",
       "      <th>open_credit</th>\n",
       "      <th>business_or_commercial</th>\n",
       "      <th>...</th>\n",
       "      <th>credit_type</th>\n",
       "      <th>Credit_Score</th>\n",
       "      <th>co-applicant_credit_type</th>\n",
       "      <th>age</th>\n",
       "      <th>submission_of_application</th>\n",
       "      <th>LTV</th>\n",
       "      <th>Region</th>\n",
       "      <th>Security_Type</th>\n",
       "      <th>Status</th>\n",
       "      <th>dtir1</th>\n",
       "    </tr>\n",
       "  </thead>\n",
       "  <tbody>\n",
       "    <tr>\n",
       "      <th>0</th>\n",
       "      <td>24890</td>\n",
       "      <td>2019</td>\n",
       "      <td>cf</td>\n",
       "      <td>Sex Not Available</td>\n",
       "      <td>nopre</td>\n",
       "      <td>type1</td>\n",
       "      <td>p1</td>\n",
       "      <td>l1</td>\n",
       "      <td>nopc</td>\n",
       "      <td>nob/c</td>\n",
       "      <td>...</td>\n",
       "      <td>EXP</td>\n",
       "      <td>758</td>\n",
       "      <td>CIB</td>\n",
       "      <td>25-34</td>\n",
       "      <td>to_inst</td>\n",
       "      <td>98.728814</td>\n",
       "      <td>south</td>\n",
       "      <td>direct</td>\n",
       "      <td>1</td>\n",
       "      <td>45.0</td>\n",
       "    </tr>\n",
       "  </tbody>\n",
       "</table>\n",
       "<p>1 rows × 34 columns</p>\n",
       "</div>"
      ],
      "text/plain": [
       "      ID  year loan_limit             Gender approv_in_adv loan_type  \\\n",
       "0  24890  2019         cf  Sex Not Available         nopre     type1   \n",
       "\n",
       "  loan_purpose Credit_Worthiness open_credit business_or_commercial  ...  \\\n",
       "0           p1                l1        nopc                  nob/c  ...   \n",
       "\n",
       "   credit_type  Credit_Score  co-applicant_credit_type    age  \\\n",
       "0          EXP           758                       CIB  25-34   \n",
       "\n",
       "   submission_of_application        LTV Region Security_Type  Status dtir1  \n",
       "0                    to_inst  98.728814  south        direct       1  45.0  \n",
       "\n",
       "[1 rows x 34 columns]"
      ]
     },
     "execution_count": 37,
     "metadata": {},
     "output_type": "execute_result"
    }
   ],
   "source": [
    "data.head(1)"
   ]
  },
  {
   "cell_type": "code",
   "execution_count": 9,
   "id": "d4f8b70a",
   "metadata": {
    "scrolled": true
   },
   "outputs": [
    {
     "data": {
      "text/plain": [
       "ID                            0.000000\n",
       "year                          0.000000\n",
       "loan_limit                    2.249277\n",
       "Gender                        0.000000\n",
       "approv_in_adv                 0.610749\n",
       "loan_type                     0.000000\n",
       "loan_purpose                  0.090133\n",
       "Credit_Worthiness             0.000000\n",
       "open_credit                   0.000000\n",
       "business_or_commercial        0.000000\n",
       "loan_amount                   0.000000\n",
       "rate_of_interest             24.509989\n",
       "Interest_rate_spread         24.644515\n",
       "Upfront_charges              26.664425\n",
       "term                          0.027578\n",
       "Neg_ammortization             0.081388\n",
       "interest_only                 0.000000\n",
       "lump_sum_payment              0.000000\n",
       "property_value               10.155378\n",
       "construction_type             0.000000\n",
       "occupancy_type                0.000000\n",
       "Secured_by                    0.000000\n",
       "total_units                   0.000000\n",
       "income                        6.154571\n",
       "credit_type                   0.000000\n",
       "Credit_Score                  0.000000\n",
       "co-applicant_credit_type      0.000000\n",
       "age                           0.134526\n",
       "submission_of_application     0.134526\n",
       "LTV                          10.155378\n",
       "Region                        0.000000\n",
       "Security_Type                 0.000000\n",
       "Status                        0.000000\n",
       "dtir1                        16.224524\n",
       "dtype: float64"
      ]
     },
     "execution_count": 9,
     "metadata": {},
     "output_type": "execute_result"
    }
   ],
   "source": [
    "data.isnull().sum()/len(data)*100"
   ]
  },
  {
   "cell_type": "markdown",
   "id": "7a2b5bf0-8d08-4e8d-bbe4-a057291bfe86",
   "metadata": {},
   "source": [
    "**Objective: investigate the missing values in the columns where the % of missing values is non-negligible (> 2.5%)**"
   ]
  },
  {
   "cell_type": "code",
   "execution_count": 43,
   "id": "617ba95a-2689-4d19-9db9-54ddca207872",
   "metadata": {},
   "outputs": [],
   "source": [
    "#Assumption based on banking knowledge & first visual observation of the dataset:\n",
    "#Some columns contain null values only for class 1 i.e. when Status=1 (loan has already defaulted).\n",
    "#Let's check out this assumption!\n",
    "a=data[['loan_limit', 'rate_of_interest','Interest_rate_spread','Upfront_charges', 'property_value','LTV', 'dtir1','Status']]"
   ]
  },
  {
   "cell_type": "code",
   "execution_count": 42,
   "id": "f030a0b9-7397-4c5f-99bf-f7e927abea40",
   "metadata": {},
   "outputs": [
    {
     "name": "stdout",
     "output_type": "stream",
     "text": [
      "Assumption confirmed: 36439 rows contain null values for all 3 features. It is a perfect match!\n"
     ]
    }
   ],
   "source": [
    "#Select and count only the rows where 'rate_of_interest' AND 'Interest_rate_spread' AND 'Upfront_charges' are null values\n",
    "b=a[(a['Status'] == 1) & (a['rate_of_interest'].isnull()) & (a['Interest_rate_spread'].isnull()) & (a['Upfront_charges'].isnull())]\n",
    "print(f\"Assumption confirmed: {b.shape[0]} rows contain null values for all 3 features. It is a perfect match!\") "
   ]
  },
  {
   "cell_type": "code",
   "execution_count": null,
   "id": "ce3b9c50-59ac-4f46-9ef8-671a1a558592",
   "metadata": {},
   "outputs": [],
   "source": []
  },
  {
   "cell_type": "markdown",
   "id": "2637b10e-83a4-48b7-82c7-412815c14f44",
   "metadata": {},
   "source": [
    "**Suggestion 1 for preprocessing: remove the columns ['rate_of_interest','Interest_rate_spread','Upfront_charges'] from the features. Why? If we kept those columns as features, they would create an imbalance. Those features would only \"influence\" the Class 0, never the Class 1. I therefore suggest to treat those 3 columns as targets instead. Based on the outcome of our prediction, we (the bank) will define contractually the interest rate, spread and upfront charges applicable to a customer if and only if the loan has been approved. How? By running a linear regression (or another model) only in the case where our first model (the classification) returns an approval to the applicant loan request.**"
   ]
  },
  {
   "cell_type": "code",
   "execution_count": 55,
   "id": "e8656756-007e-4bd9-b6b8-c5fb001c8f55",
   "metadata": {},
   "outputs": [
    {
     "name": "stdout",
     "output_type": "stream",
     "text": [
      "Class 1 Defaulted loans: 15096 missing property values Class 0 Performing loans: 2 missing property values only\n"
     ]
    }
   ],
   "source": [
    "#Let's move on to the columns 'property_value' and 'LTV'!\n",
    "c=a[(a['Status'] == 0) & (a['property_value'].isnull())] \n",
    "d=a[(a['Status'] == 1) & (a['property_value'].isnull())] \n",
    "print(f\"Class 1 Defaulted loans: {d.shape[0]} missing property values Class 0 Performing loans: {c.shape[0]} missing property values only\")"
   ]
  },
  {
   "cell_type": "code",
   "execution_count": 62,
   "id": "13a64b7b-8b5c-49db-bfe6-c7c7908c0c19",
   "metadata": {},
   "outputs": [
    {
     "name": "stdout",
     "output_type": "stream",
     "text": [
      "Class 1 Defaulted loans: 21543 with property values properly filled in\n"
     ]
    }
   ],
   "source": [
    "#Let's check if we have class 1 defaulted loans with property values properly filled in\n",
    "e = a[(a['Status'] == 1) & (a['property_value'].isnull() == False)]\n",
    "print(f\"Class 1 Defaulted loans: {e.shape[0]} with property values properly filled in\")"
   ]
  },
  {
   "cell_type": "markdown",
   "id": "d3b085bb-12da-419b-a2e0-df8e6e7ae88f",
   "metadata": {},
   "source": [
    "Partial conclusion: out of 36639 Class 1 defaulted loans, 15096 have a missing property value, 21543 do not."
   ]
  },
  {
   "cell_type": "code",
   "execution_count": 81,
   "id": "2c4c9818-7580-49a5-96df-a632f456a461",
   "metadata": {},
   "outputs": [],
   "source": [
    "#Assumption: the Class 1 defaulted loans with missing property values are not real estate loans. Let's check this out by looking at the columns\n",
    "#related to the type or purpose of the loan: \"loan_type','loan_purpose' and 'business_or_commercial'"
   ]
  },
  {
   "cell_type": "code",
   "execution_count": 89,
   "id": "31e557ae-5920-4436-9002-12bd1960f75f",
   "metadata": {
    "scrolled": true
   },
   "outputs": [
    {
     "name": "stdout",
     "output_type": "stream",
     "text": [
      "loan_type\n",
      "type1    25775\n",
      "type2     7172\n",
      "type3     3692\n",
      "Name: count, dtype: int64\n",
      "___________________\n",
      "loan_purpose\n",
      "p3    13996\n",
      "p4    12590\n",
      "p1     8935\n",
      "p2     1083\n",
      "Name: count, dtype: int64\n",
      "___________________\n",
      "business_or_commercial\n",
      "nob/c    29467\n",
      "b/c       7172\n",
      "Name: count, dtype: int64\n",
      "___________________\n"
     ]
    }
   ],
   "source": [
    "loan_type_columns=['loan_type','loan_purpose','business_or_commercial']\n",
    "for element in loan_type_columns:\n",
    "    f=data[(data['Status'] == 1)][element]\n",
    "    print(f.value_counts())\n",
    "    print(\"___________________\")"
   ]
  },
  {
   "cell_type": "markdown",
   "id": "3f0727dc-da26-4510-83de-fe2658af4545",
   "metadata": {},
   "source": [
    "Partial conclusion: there is no obvious link. We need to find another angle."
   ]
  },
  {
   "cell_type": "code",
   "execution_count": 101,
   "id": "16b42fdc-93bd-4764-b600-fe443be1aa42",
   "metadata": {
    "scrolled": true
   },
   "outputs": [
    {
     "data": {
      "text/html": [
       "<div>\n",
       "<style scoped>\n",
       "    .dataframe tbody tr th:only-of-type {\n",
       "        vertical-align: middle;\n",
       "    }\n",
       "\n",
       "    .dataframe tbody tr th {\n",
       "        vertical-align: top;\n",
       "    }\n",
       "\n",
       "    .dataframe thead th {\n",
       "        text-align: right;\n",
       "    }\n",
       "</style>\n",
       "<table border=\"1\" class=\"dataframe\">\n",
       "  <thead>\n",
       "    <tr style=\"text-align: right;\">\n",
       "      <th></th>\n",
       "      <th>ID</th>\n",
       "      <th>year</th>\n",
       "      <th>loan_limit</th>\n",
       "      <th>Gender</th>\n",
       "      <th>approv_in_adv</th>\n",
       "      <th>loan_type</th>\n",
       "      <th>loan_purpose</th>\n",
       "      <th>Credit_Worthiness</th>\n",
       "      <th>open_credit</th>\n",
       "      <th>business_or_commercial</th>\n",
       "      <th>...</th>\n",
       "      <th>credit_type</th>\n",
       "      <th>Credit_Score</th>\n",
       "      <th>co-applicant_credit_type</th>\n",
       "      <th>age</th>\n",
       "      <th>submission_of_application</th>\n",
       "      <th>LTV</th>\n",
       "      <th>Region</th>\n",
       "      <th>Security_Type</th>\n",
       "      <th>Status</th>\n",
       "      <th>dtir1</th>\n",
       "    </tr>\n",
       "  </thead>\n",
       "  <tbody>\n",
       "    <tr>\n",
       "      <th>1</th>\n",
       "      <td>24891</td>\n",
       "      <td>2019</td>\n",
       "      <td>cf</td>\n",
       "      <td>Male</td>\n",
       "      <td>nopre</td>\n",
       "      <td>type2</td>\n",
       "      <td>p1</td>\n",
       "      <td>l1</td>\n",
       "      <td>nopc</td>\n",
       "      <td>b/c</td>\n",
       "      <td>...</td>\n",
       "      <td>EQUI</td>\n",
       "      <td>552</td>\n",
       "      <td>EXP</td>\n",
       "      <td>55-64</td>\n",
       "      <td>to_inst</td>\n",
       "      <td>NaN</td>\n",
       "      <td>North</td>\n",
       "      <td>direct</td>\n",
       "      <td>1</td>\n",
       "      <td>NaN</td>\n",
       "    </tr>\n",
       "    <tr>\n",
       "      <th>26</th>\n",
       "      <td>24916</td>\n",
       "      <td>2019</td>\n",
       "      <td>cf</td>\n",
       "      <td>Joint</td>\n",
       "      <td>nopre</td>\n",
       "      <td>type3</td>\n",
       "      <td>p1</td>\n",
       "      <td>l1</td>\n",
       "      <td>nopc</td>\n",
       "      <td>nob/c</td>\n",
       "      <td>...</td>\n",
       "      <td>EQUI</td>\n",
       "      <td>518</td>\n",
       "      <td>EXP</td>\n",
       "      <td>45-54</td>\n",
       "      <td>to_inst</td>\n",
       "      <td>NaN</td>\n",
       "      <td>south</td>\n",
       "      <td>direct</td>\n",
       "      <td>1</td>\n",
       "      <td>NaN</td>\n",
       "    </tr>\n",
       "    <tr>\n",
       "      <th>42</th>\n",
       "      <td>24932</td>\n",
       "      <td>2019</td>\n",
       "      <td>cf</td>\n",
       "      <td>Male</td>\n",
       "      <td>nopre</td>\n",
       "      <td>type3</td>\n",
       "      <td>p4</td>\n",
       "      <td>l1</td>\n",
       "      <td>nopc</td>\n",
       "      <td>nob/c</td>\n",
       "      <td>...</td>\n",
       "      <td>EQUI</td>\n",
       "      <td>765</td>\n",
       "      <td>EXP</td>\n",
       "      <td>45-54</td>\n",
       "      <td>to_inst</td>\n",
       "      <td>NaN</td>\n",
       "      <td>North</td>\n",
       "      <td>direct</td>\n",
       "      <td>1</td>\n",
       "      <td>NaN</td>\n",
       "    </tr>\n",
       "    <tr>\n",
       "      <th>52</th>\n",
       "      <td>24942</td>\n",
       "      <td>2019</td>\n",
       "      <td>cf</td>\n",
       "      <td>Joint</td>\n",
       "      <td>nopre</td>\n",
       "      <td>type3</td>\n",
       "      <td>p3</td>\n",
       "      <td>l1</td>\n",
       "      <td>nopc</td>\n",
       "      <td>nob/c</td>\n",
       "      <td>...</td>\n",
       "      <td>EQUI</td>\n",
       "      <td>555</td>\n",
       "      <td>EXP</td>\n",
       "      <td>65-74</td>\n",
       "      <td>to_inst</td>\n",
       "      <td>NaN</td>\n",
       "      <td>North</td>\n",
       "      <td>direct</td>\n",
       "      <td>1</td>\n",
       "      <td>NaN</td>\n",
       "    </tr>\n",
       "    <tr>\n",
       "      <th>53</th>\n",
       "      <td>24943</td>\n",
       "      <td>2019</td>\n",
       "      <td>ncf</td>\n",
       "      <td>Female</td>\n",
       "      <td>nopre</td>\n",
       "      <td>type1</td>\n",
       "      <td>p3</td>\n",
       "      <td>l1</td>\n",
       "      <td>nopc</td>\n",
       "      <td>nob/c</td>\n",
       "      <td>...</td>\n",
       "      <td>EQUI</td>\n",
       "      <td>603</td>\n",
       "      <td>EXP</td>\n",
       "      <td>65-74</td>\n",
       "      <td>to_inst</td>\n",
       "      <td>NaN</td>\n",
       "      <td>North</td>\n",
       "      <td>direct</td>\n",
       "      <td>1</td>\n",
       "      <td>NaN</td>\n",
       "    </tr>\n",
       "    <tr>\n",
       "      <th>...</th>\n",
       "      <td>...</td>\n",
       "      <td>...</td>\n",
       "      <td>...</td>\n",
       "      <td>...</td>\n",
       "      <td>...</td>\n",
       "      <td>...</td>\n",
       "      <td>...</td>\n",
       "      <td>...</td>\n",
       "      <td>...</td>\n",
       "      <td>...</td>\n",
       "      <td>...</td>\n",
       "      <td>...</td>\n",
       "      <td>...</td>\n",
       "      <td>...</td>\n",
       "      <td>...</td>\n",
       "      <td>...</td>\n",
       "      <td>...</td>\n",
       "      <td>...</td>\n",
       "      <td>...</td>\n",
       "      <td>...</td>\n",
       "      <td>...</td>\n",
       "    </tr>\n",
       "    <tr>\n",
       "      <th>148644</th>\n",
       "      <td>173534</td>\n",
       "      <td>2019</td>\n",
       "      <td>cf</td>\n",
       "      <td>Joint</td>\n",
       "      <td>nopre</td>\n",
       "      <td>type1</td>\n",
       "      <td>p3</td>\n",
       "      <td>l1</td>\n",
       "      <td>nopc</td>\n",
       "      <td>nob/c</td>\n",
       "      <td>...</td>\n",
       "      <td>EQUI</td>\n",
       "      <td>846</td>\n",
       "      <td>EXP</td>\n",
       "      <td>&gt;74</td>\n",
       "      <td>to_inst</td>\n",
       "      <td>NaN</td>\n",
       "      <td>south</td>\n",
       "      <td>direct</td>\n",
       "      <td>1</td>\n",
       "      <td>NaN</td>\n",
       "    </tr>\n",
       "    <tr>\n",
       "      <th>148649</th>\n",
       "      <td>173539</td>\n",
       "      <td>2019</td>\n",
       "      <td>cf</td>\n",
       "      <td>Sex Not Available</td>\n",
       "      <td>nopre</td>\n",
       "      <td>type1</td>\n",
       "      <td>p3</td>\n",
       "      <td>l1</td>\n",
       "      <td>nopc</td>\n",
       "      <td>nob/c</td>\n",
       "      <td>...</td>\n",
       "      <td>EQUI</td>\n",
       "      <td>703</td>\n",
       "      <td>EXP</td>\n",
       "      <td>55-64</td>\n",
       "      <td>to_inst</td>\n",
       "      <td>NaN</td>\n",
       "      <td>south</td>\n",
       "      <td>direct</td>\n",
       "      <td>1</td>\n",
       "      <td>NaN</td>\n",
       "    </tr>\n",
       "    <tr>\n",
       "      <th>148652</th>\n",
       "      <td>173542</td>\n",
       "      <td>2019</td>\n",
       "      <td>cf</td>\n",
       "      <td>Male</td>\n",
       "      <td>nopre</td>\n",
       "      <td>type1</td>\n",
       "      <td>p1</td>\n",
       "      <td>l1</td>\n",
       "      <td>nopc</td>\n",
       "      <td>nob/c</td>\n",
       "      <td>...</td>\n",
       "      <td>EQUI</td>\n",
       "      <td>608</td>\n",
       "      <td>EXP</td>\n",
       "      <td>55-64</td>\n",
       "      <td>to_inst</td>\n",
       "      <td>NaN</td>\n",
       "      <td>North</td>\n",
       "      <td>direct</td>\n",
       "      <td>1</td>\n",
       "      <td>NaN</td>\n",
       "    </tr>\n",
       "    <tr>\n",
       "      <th>148658</th>\n",
       "      <td>173548</td>\n",
       "      <td>2019</td>\n",
       "      <td>cf</td>\n",
       "      <td>Sex Not Available</td>\n",
       "      <td>nopre</td>\n",
       "      <td>type1</td>\n",
       "      <td>p4</td>\n",
       "      <td>l1</td>\n",
       "      <td>nopc</td>\n",
       "      <td>nob/c</td>\n",
       "      <td>...</td>\n",
       "      <td>EQUI</td>\n",
       "      <td>669</td>\n",
       "      <td>EXP</td>\n",
       "      <td>25-34</td>\n",
       "      <td>to_inst</td>\n",
       "      <td>NaN</td>\n",
       "      <td>south</td>\n",
       "      <td>direct</td>\n",
       "      <td>1</td>\n",
       "      <td>NaN</td>\n",
       "    </tr>\n",
       "    <tr>\n",
       "      <th>148663</th>\n",
       "      <td>173553</td>\n",
       "      <td>2019</td>\n",
       "      <td>cf</td>\n",
       "      <td>Male</td>\n",
       "      <td>nopre</td>\n",
       "      <td>type2</td>\n",
       "      <td>p1</td>\n",
       "      <td>l1</td>\n",
       "      <td>nopc</td>\n",
       "      <td>b/c</td>\n",
       "      <td>...</td>\n",
       "      <td>EQUI</td>\n",
       "      <td>619</td>\n",
       "      <td>EXP</td>\n",
       "      <td>&lt;25</td>\n",
       "      <td>to_inst</td>\n",
       "      <td>NaN</td>\n",
       "      <td>North</td>\n",
       "      <td>direct</td>\n",
       "      <td>1</td>\n",
       "      <td>NaN</td>\n",
       "    </tr>\n",
       "  </tbody>\n",
       "</table>\n",
       "<p>15096 rows × 34 columns</p>\n",
       "</div>"
      ],
      "text/plain": [
       "            ID  year loan_limit             Gender approv_in_adv loan_type  \\\n",
       "1        24891  2019         cf               Male         nopre     type2   \n",
       "26       24916  2019         cf              Joint         nopre     type3   \n",
       "42       24932  2019         cf               Male         nopre     type3   \n",
       "52       24942  2019         cf              Joint         nopre     type3   \n",
       "53       24943  2019        ncf             Female         nopre     type1   \n",
       "...        ...   ...        ...                ...           ...       ...   \n",
       "148644  173534  2019         cf              Joint         nopre     type1   \n",
       "148649  173539  2019         cf  Sex Not Available         nopre     type1   \n",
       "148652  173542  2019         cf               Male         nopre     type1   \n",
       "148658  173548  2019         cf  Sex Not Available         nopre     type1   \n",
       "148663  173553  2019         cf               Male         nopre     type2   \n",
       "\n",
       "       loan_purpose Credit_Worthiness open_credit business_or_commercial  ...  \\\n",
       "1                p1                l1        nopc                    b/c  ...   \n",
       "26               p1                l1        nopc                  nob/c  ...   \n",
       "42               p4                l1        nopc                  nob/c  ...   \n",
       "52               p3                l1        nopc                  nob/c  ...   \n",
       "53               p3                l1        nopc                  nob/c  ...   \n",
       "...             ...               ...         ...                    ...  ...   \n",
       "148644           p3                l1        nopc                  nob/c  ...   \n",
       "148649           p3                l1        nopc                  nob/c  ...   \n",
       "148652           p1                l1        nopc                  nob/c  ...   \n",
       "148658           p4                l1        nopc                  nob/c  ...   \n",
       "148663           p1                l1        nopc                    b/c  ...   \n",
       "\n",
       "        credit_type  Credit_Score  co-applicant_credit_type    age  \\\n",
       "1              EQUI           552                       EXP  55-64   \n",
       "26             EQUI           518                       EXP  45-54   \n",
       "42             EQUI           765                       EXP  45-54   \n",
       "52             EQUI           555                       EXP  65-74   \n",
       "53             EQUI           603                       EXP  65-74   \n",
       "...             ...           ...                       ...    ...   \n",
       "148644         EQUI           846                       EXP    >74   \n",
       "148649         EQUI           703                       EXP  55-64   \n",
       "148652         EQUI           608                       EXP  55-64   \n",
       "148658         EQUI           669                       EXP  25-34   \n",
       "148663         EQUI           619                       EXP    <25   \n",
       "\n",
       "        submission_of_application LTV Region Security_Type  Status dtir1  \n",
       "1                         to_inst NaN  North        direct       1   NaN  \n",
       "26                        to_inst NaN  south        direct       1   NaN  \n",
       "42                        to_inst NaN  North        direct       1   NaN  \n",
       "52                        to_inst NaN  North        direct       1   NaN  \n",
       "53                        to_inst NaN  North        direct       1   NaN  \n",
       "...                           ...  ..    ...           ...     ...   ...  \n",
       "148644                    to_inst NaN  south        direct       1   NaN  \n",
       "148649                    to_inst NaN  south        direct       1   NaN  \n",
       "148652                    to_inst NaN  North        direct       1   NaN  \n",
       "148658                    to_inst NaN  south        direct       1   NaN  \n",
       "148663                    to_inst NaN  North        direct       1   NaN  \n",
       "\n",
       "[15096 rows x 34 columns]"
      ]
     },
     "execution_count": 101,
     "metadata": {},
     "output_type": "execute_result"
    }
   ],
   "source": [
    "data[(data['Status']==1) & (data['property_value'].isnull())]"
   ]
  },
  {
   "cell_type": "markdown",
   "id": "d376806c-e76a-4b5f-8d60-5d6e594285c0",
   "metadata": {},
   "source": [
    "We observe visually that the column 'credit_type' only has EQUI values. That is a hint!"
   ]
  },
  {
   "cell_type": "code",
   "execution_count": 103,
   "id": "d8849dde-21d9-4b5c-90d4-452145f463e4",
   "metadata": {
    "scrolled": true
   },
   "outputs": [
    {
     "data": {
      "text/plain": [
       "credit_type\n",
       "CIB     48152\n",
       "CRIF    43901\n",
       "EXP     41319\n",
       "EQUI    15298\n",
       "Name: count, dtype: int64"
      ]
     },
     "execution_count": 103,
     "metadata": {},
     "output_type": "execute_result"
    }
   ],
   "source": [
    "#Let's check out the value distribution in that column for the complete dataset (i.e. not focusing on Class 1 non-performing loans)\n",
    "data['credit_type'].value_counts()"
   ]
  },
  {
   "cell_type": "markdown",
   "id": "cb0c0dcc-94e4-49d8-a814-83d7c905ec4a",
   "metadata": {},
   "source": [
    "It seems the value 'EQUI' in the column 'credit_type' correlates almost exactly with missing values in the 'property_value' column. Let's zoom on the 'EQUI' values to be sure!"
   ]
  },
  {
   "cell_type": "code",
   "execution_count": 107,
   "id": "22f8053f-db63-400e-8298-c7177cc7be2d",
   "metadata": {},
   "outputs": [
    {
     "name": "stdout",
     "output_type": "stream",
     "text": [
      "Class 1 Defaulted loans with missing property values, how many are 'EQUI'? Answer: 15096\n"
     ]
    }
   ],
   "source": [
    "g=data[(data['Status']==1) & (data['property_value'].isnull()) & (data['credit_type']=='EQUI')]\n",
    "print(f\"Class 1 Defaulted loans with missing property values, how many are 'EQUI'? Answer: {g.shape[0]}\")"
   ]
  },
  {
   "cell_type": "markdown",
   "id": "3f5f17db-0def-42d0-86aa-0b4a7b5badd5",
   "metadata": {},
   "source": [
    "A Google search indicates the following: \"Equifax Inc. is an American multinational consumer credit reporting agency headquartered in Atlanta, Georgia and is one of the three largest consumer credit reporting agencies, along with Experian and TransUnion (together known as the \"Big Three\")\"\n",
    "\n",
    "Assumption: EQUI does not provide the property value for defaulted loans whereas the 3 other credit bureaus (CIB, CRIF and EXP) do."
   ]
  },
  {
   "cell_type": "code",
   "execution_count": 117,
   "id": "f244301e-a3d5-4bf8-8f47-8843fa88bc13",
   "metadata": {},
   "outputs": [
    {
     "name": "stdout",
     "output_type": "stream",
     "text": [
      "Class 1 Defaulted loans with missing property values, how many are not'EQUI'? Answer: 21342\n"
     ]
    }
   ],
   "source": [
    "property_value_filled_in=data[(data['Status']==1) & (data['credit_type']=='CIB')][['credit_type']].shape[0]+data[(data['Status']==1) & (data['credit_type']=='CRIF')][['credit_type']].shape[0] +data[(data['Status']==1) & (data['credit_type']=='EXP')][['credit_type']].shape[0]\n",
    "print(f\"Class 1 Defaulted loans with missing property values, how many are not'EQUI'? Answer: {property_value_filled_in}\")"
   ]
  },
  {
   "cell_type": "markdown",
   "id": "db33609b-68ed-479d-8f9b-8e00b00381c3",
   "metadata": {},
   "source": [
    "From the 21543 values actually filled in the column 'property_value', 21342 come from the bureaus CIB, CRIF and EXP. A plausible explanation is simply that unlike the 3 other bureaus, EQUI simply does not provide this information."
   ]
  },
  {
   "cell_type": "markdown",
   "id": "678d08bc-805f-494b-8bce-0866df08745f",
   "metadata": {},
   "source": [
    "**Suggestion 2 for preprocessing: keep the column 'property_value' and remove the missing values in it.\n",
    "We can apply the same method to the column 'LTV' (Loan-to-Value) which is equal to 'loan_amount' / 'property_value' as there are no missing values in 'loan_amount'**"
   ]
  },
  {
   "cell_type": "code",
   "execution_count": 131,
   "id": "03450a7c-b994-46ca-9ccf-73fccf06b950",
   "metadata": {
    "scrolled": true
   },
   "outputs": [
    {
     "name": "stdout",
     "output_type": "stream",
     "text": [
      "Class 1 Defaulted loans with missing 'dtir1', how many are 'EQUI'? Answer: 15296\n"
     ]
    }
   ],
   "source": [
    "#Now let's move on to the last column with missing values > 2.5%, which is 'dtir1' (Debt-to-Income_Ratio).\n",
    "h=data[(data['dtir1'].isnull()) & (data['Status']==1)  & (data['credit_type']=='EQUI')]\n",
    "print(f\"Class 1 Defaulted loans with missing 'dtir1', how many are 'EQUI'? Answer: {h.shape[0]}\")"
   ]
  },
  {
   "cell_type": "code",
   "execution_count": 148,
   "id": "4deea15d-13af-487b-bf67-98ade1a4675b",
   "metadata": {
    "scrolled": true
   },
   "outputs": [
    {
     "name": "stdout",
     "output_type": "stream",
     "text": [
      "Class 1 Defaulted loans with missing 'dtir1', how many are 'p4'? Answer: 8817\n"
     ]
    }
   ],
   "source": [
    "#Now let's take a look at the column loan_purpose as it appears visually that all missing 'dtir1' have 'p4' in that column.\n",
    "i=data[(data['dtir1'].isnull()) & (data['loan_purpose'] == 'p4') & ~(data['credit_type'] =='EQUI')]\n",
    "print(f\"Class 1 Defaulted loans with missing 'dtir1', how many are 'p4'? Answer: {i.shape[0]}\")"
   ]
  },
  {
   "cell_type": "markdown",
   "id": "13bdd286-a554-4eef-bc3f-93f20a66bc7e",
   "metadata": {},
   "source": [
    "We have a total of 8817+15296=24113 which matches almost entirely all missing values in 'dtir1.'"
   ]
  },
  {
   "cell_type": "markdown",
   "id": "d12e2be4-9ccb-49e8-914f-20ee480417da",
   "metadata": {
    "scrolled": true
   },
   "source": [
    "**Suggestion 3 for preprocessing: keep the column 'dtir1' and remove the missing values in it. De facto we are withdrawing \"only\" another (24113-15296)=8817 rows, as we already suggested to remove 15296 EQUI values.** "
   ]
  },
  {
   "cell_type": "markdown",
   "id": "b9562ae5-1134-40c8-8ffc-fbef97fa03e3",
   "metadata": {},
   "source": [
    "# Base model"
   ]
  },
  {
   "cell_type": "markdown",
   "id": "204009be-4d3e-4145-9caa-971c0dbf6c5b",
   "metadata": {},
   "source": [
    "import package_folder.preprocessor\n",
    "from package_folder.preprocessor import clean_data\n",
    "from package_folder.preprocessor import encode_categorical"
   ]
  },
  {
   "cell_type": "code",
   "execution_count": null,
   "id": "e5daac98",
   "metadata": {},
   "outputs": [],
   "source": [
    "'''#Load model\n",
    "import pickle\n",
    "\n",
    "# Adjust the path to your .pkl file\n",
    "with open('path_to_your_file.pkl', 'rb') as file:\n",
    "    model = pickle.load(file)\n",
    "\n",
    "# Display some information about the loaded object\n",
    "print(model)'''"
   ]
  },
  {
   "cell_type": "code",
   "execution_count": null,
   "id": "a38d0c2e",
   "metadata": {},
   "outputs": [],
   "source": [
    "#Let's try a new approach: remove columns with a lot of missing values & highly correlated with 1 status (\"loan not approved\")\n",
    "data_light=data.drop(columns=['loan_limit', 'rate_of_interest','Interest_rate_spread','Upfront_charges', 'property_value','LTV', 'dtir1'])\n",
    "data_light_brutally_cleaned=data_light.dropna()\n",
    "data_encoded_with_Gilian=encode_categorical(data_light_brutally_cleaned)\n",
    "data_encoded_with_Gilian.shape"
   ]
  },
  {
   "cell_type": "code",
   "execution_count": null,
   "id": "b54ca23d-d72f-4a08-9e06-3bf699d542d4",
   "metadata": {},
   "outputs": [],
   "source": [
    "#Create X and y\n",
    "X=data_encoded_with_Gilian.drop(columns='Status')\n",
    "y=data_encoded_with_Gilian['Status']"
   ]
  },
  {
   "cell_type": "code",
   "execution_count": null,
   "id": "08f27ca6-50bd-4a39-8bd7-4bc983faa544",
   "metadata": {},
   "outputs": [],
   "source": [
    "from sklearn.preprocessing import RobustScaler\n",
    "scaler = RobustScaler()\n",
    "scaler.fit(X) \n",
    "X_scaled= scaler.transform(X)"
   ]
  },
  {
   "cell_type": "code",
   "execution_count": null,
   "id": "62d37633-2573-4ab4-8c01-ad30a9203217",
   "metadata": {},
   "outputs": [],
   "source": [
    "X_scaled.shape"
   ]
  },
  {
   "cell_type": "code",
   "execution_count": null,
   "id": "52a656f2-3b4f-4260-b9aa-179e8d0b0fa7",
   "metadata": {},
   "outputs": [],
   "source": [
    "from sklearn.linear_model import LogisticRegression\n",
    "from sklearn.model_selection import cross_validate\n",
    "model=LogisticRegression()\n",
    "base_model_score=cross_validate(model,X_scaled,y,cv=5)['test_score'].mean()\n",
    "base_model_score"
   ]
  },
  {
   "cell_type": "code",
   "execution_count": null,
   "id": "0d8c6b35-5b41-4f2c-8494-9877cc79c17a",
   "metadata": {},
   "outputs": [],
   "source": [
    "print(f\"Accuracy of logistic regression model: {round(float(base_model_score),2)}\")"
   ]
  },
  {
   "cell_type": "code",
   "execution_count": null,
   "id": "32d25b78-0ecd-48c3-b4dc-3f8dd222995b",
   "metadata": {},
   "outputs": [],
   "source": []
  }
 ],
 "metadata": {
  "celltoolbar": "Aucun(e)",
  "kernelspec": {
   "display_name": "Python 3 (ipykernel)",
   "language": "python",
   "name": "python3"
  },
  "language_info": {
   "codemirror_mode": {
    "name": "ipython",
    "version": 3
   },
   "file_extension": ".py",
   "mimetype": "text/x-python",
   "name": "python",
   "nbconvert_exporter": "python",
   "pygments_lexer": "ipython3",
   "version": "3.10.6"
  },
  "toc": {
   "base_numbering": 1,
   "nav_menu": {},
   "number_sections": true,
   "sideBar": true,
   "skip_h1_title": false,
   "title_cell": "Table of Contents",
   "title_sidebar": "Contents",
   "toc_cell": false,
   "toc_position": {},
   "toc_section_display": true,
   "toc_window_display": false
  }
 },
 "nbformat": 4,
 "nbformat_minor": 5
}
