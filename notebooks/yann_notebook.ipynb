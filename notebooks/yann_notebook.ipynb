{
 "cells": [
  {
   "cell_type": "code",
   "execution_count": 5,
   "id": "66da9764",
   "metadata": {},
   "outputs": [],
   "source": [
    "%load_ext autoreload\n",
    "%autoreload 2"
   ]
  },
  {
   "cell_type": "code",
   "execution_count": 6,
   "id": "b30d32c7",
   "metadata": {},
   "outputs": [],
   "source": [
    "import os\n",
    "import kagglehub\n",
    "import pathlib\n",
    "import pandas as pd\n",
    "import seaborn as sns\n",
    "import matplotlib.pyplot as plt\n",
    "import numpy as np"
   ]
  },
  {
   "cell_type": "code",
   "execution_count": null,
   "id": "869e442f-d3b5-46c7-8b82-e4da64728067",
   "metadata": {},
   "outputs": [],
   "source": [
    "#numpy-1.26.0 is requested to run section 4 of this Notebook (\"4. Deep learning model\") because of an incompatibility of Tensorflow with numpy2-1-2\n",
    "#However note that the rest of our package_folder code runs on the more recent version Numpy2-1-2\n",
    "#Suggestion: pip install numpy-1.26.0 on your branch only if you run section 4"
   ]
  },
  {
   "cell_type": "markdown",
   "id": "d0e8de36",
   "metadata": {},
   "source": [
    "# Load data"
   ]
  },
  {
   "cell_type": "code",
   "execution_count": 7,
   "id": "5d013b7e",
   "metadata": {},
   "outputs": [
    {
     "name": "stdout",
     "output_type": "stream",
     "text": [
      "✅ Data loaded successfully\n"
     ]
    }
   ],
   "source": [
    "ROOT_PATH = pathlib.Path().resolve().parent\n",
    "# Get the parent directory of the current working directory\n",
    "raw_data_path = os.path.join(ROOT_PATH, 'raw_data', 'Loan_Default.csv')\n",
    "# Load the data into a DataFrame\n",
    "if os.path.exists(raw_data_path):\n",
    "    data = pd.read_csv(raw_data_path)\n",
    "    print(\"✅ Data loaded successfully\")\n",
    "else:\n",
    "    raise FileNotFoundError(f\"The file {raw_data_path} does not exist. Please check the path.\")"
   ]
  },
  {
   "cell_type": "code",
   "execution_count": 8,
   "id": "90319ae5",
   "metadata": {},
   "outputs": [],
   "source": [
    "data=pd.read_csv(f'{raw_data_path}')"
   ]
  },
  {
   "cell_type": "code",
   "execution_count": 9,
   "id": "cc65183d-1cef-41cf-bda8-0cc33bae835a",
   "metadata": {},
   "outputs": [
    {
     "name": "stdout",
     "output_type": "stream",
     "text": [
      "data shape: (148670, 34)\n"
     ]
    }
   ],
   "source": [
    "print(f\"data shape: {data.shape}\")"
   ]
  },
  {
   "cell_type": "markdown",
   "id": "c5e582cc",
   "metadata": {},
   "source": [
    "# Data exploration"
   ]
  },
  {
   "cell_type": "code",
   "execution_count": 10,
   "id": "be3b72ac",
   "metadata": {},
   "outputs": [
    {
     "data": {
      "text/html": [
       "<div>\n",
       "<style scoped>\n",
       "    .dataframe tbody tr th:only-of-type {\n",
       "        vertical-align: middle;\n",
       "    }\n",
       "\n",
       "    .dataframe tbody tr th {\n",
       "        vertical-align: top;\n",
       "    }\n",
       "\n",
       "    .dataframe thead th {\n",
       "        text-align: right;\n",
       "    }\n",
       "</style>\n",
       "<table border=\"1\" class=\"dataframe\">\n",
       "  <thead>\n",
       "    <tr style=\"text-align: right;\">\n",
       "      <th></th>\n",
       "      <th>ID</th>\n",
       "      <th>year</th>\n",
       "      <th>loan_limit</th>\n",
       "      <th>Gender</th>\n",
       "      <th>approv_in_adv</th>\n",
       "      <th>loan_type</th>\n",
       "      <th>loan_purpose</th>\n",
       "      <th>Credit_Worthiness</th>\n",
       "      <th>open_credit</th>\n",
       "      <th>business_or_commercial</th>\n",
       "      <th>...</th>\n",
       "      <th>credit_type</th>\n",
       "      <th>Credit_Score</th>\n",
       "      <th>co-applicant_credit_type</th>\n",
       "      <th>age</th>\n",
       "      <th>submission_of_application</th>\n",
       "      <th>LTV</th>\n",
       "      <th>Region</th>\n",
       "      <th>Security_Type</th>\n",
       "      <th>Status</th>\n",
       "      <th>dtir1</th>\n",
       "    </tr>\n",
       "  </thead>\n",
       "  <tbody>\n",
       "    <tr>\n",
       "      <th>0</th>\n",
       "      <td>24890</td>\n",
       "      <td>2019</td>\n",
       "      <td>cf</td>\n",
       "      <td>Sex Not Available</td>\n",
       "      <td>nopre</td>\n",
       "      <td>type1</td>\n",
       "      <td>p1</td>\n",
       "      <td>l1</td>\n",
       "      <td>nopc</td>\n",
       "      <td>nob/c</td>\n",
       "      <td>...</td>\n",
       "      <td>EXP</td>\n",
       "      <td>758</td>\n",
       "      <td>CIB</td>\n",
       "      <td>25-34</td>\n",
       "      <td>to_inst</td>\n",
       "      <td>98.728814</td>\n",
       "      <td>south</td>\n",
       "      <td>direct</td>\n",
       "      <td>1</td>\n",
       "      <td>45.0</td>\n",
       "    </tr>\n",
       "  </tbody>\n",
       "</table>\n",
       "<p>1 rows × 34 columns</p>\n",
       "</div>"
      ],
      "text/plain": [
       "      ID  year loan_limit             Gender approv_in_adv loan_type  \\\n",
       "0  24890  2019         cf  Sex Not Available         nopre     type1   \n",
       "\n",
       "  loan_purpose Credit_Worthiness open_credit business_or_commercial  ...  \\\n",
       "0           p1                l1        nopc                  nob/c  ...   \n",
       "\n",
       "   credit_type  Credit_Score  co-applicant_credit_type    age  \\\n",
       "0          EXP           758                       CIB  25-34   \n",
       "\n",
       "   submission_of_application        LTV Region Security_Type  Status dtir1  \n",
       "0                    to_inst  98.728814  south        direct       1  45.0  \n",
       "\n",
       "[1 rows x 34 columns]"
      ]
     },
     "execution_count": 10,
     "metadata": {},
     "output_type": "execute_result"
    }
   ],
   "source": [
    "data.head(1)"
   ]
  },
  {
   "cell_type": "code",
   "execution_count": 13,
   "id": "d4f8b70a",
   "metadata": {
    "scrolled": true
   },
   "outputs": [
    {
     "data": {
      "text/plain": [
       "ID                            0.000000\n",
       "year                          0.000000\n",
       "loan_limit                    2.249277\n",
       "Gender                        0.000000\n",
       "approv_in_adv                 0.610749\n",
       "loan_type                     0.000000\n",
       "loan_purpose                  0.090133\n",
       "Credit_Worthiness             0.000000\n",
       "open_credit                   0.000000\n",
       "business_or_commercial        0.000000\n",
       "loan_amount                   0.000000\n",
       "rate_of_interest             24.509989\n",
       "Interest_rate_spread         24.644515\n",
       "Upfront_charges              26.664425\n",
       "term                          0.027578\n",
       "Neg_ammortization             0.081388\n",
       "interest_only                 0.000000\n",
       "lump_sum_payment              0.000000\n",
       "property_value               10.155378\n",
       "construction_type             0.000000\n",
       "occupancy_type                0.000000\n",
       "Secured_by                    0.000000\n",
       "total_units                   0.000000\n",
       "income                        6.154571\n",
       "credit_type                   0.000000\n",
       "Credit_Score                  0.000000\n",
       "co-applicant_credit_type      0.000000\n",
       "age                           0.134526\n",
       "submission_of_application     0.134526\n",
       "LTV                          10.155378\n",
       "Region                        0.000000\n",
       "Security_Type                 0.000000\n",
       "Status                        0.000000\n",
       "dtir1                        16.224524\n",
       "dtype: float64"
      ]
     },
     "execution_count": 13,
     "metadata": {},
     "output_type": "execute_result"
    }
   ],
   "source": [
    "data.isnull().sum()/len(data)*100"
   ]
  },
  {
   "cell_type": "markdown",
   "id": "7a2b5bf0-8d08-4e8d-bbe4-a057291bfe86",
   "metadata": {},
   "source": [
    "**Objective: investigate the missing values in the columns where the % of missing values is non-negligible (> 2.5%)**"
   ]
  },
  {
   "cell_type": "code",
   "execution_count": 9,
   "id": "617ba95a-2689-4d19-9db9-54ddca207872",
   "metadata": {},
   "outputs": [],
   "source": [
    "#Assumption based on banking knowledge & first visual observation of the dataset:\n",
    "#Some columns contain null values only for class 1 i.e. when Status=1 (loan has already defaulted).\n",
    "#Let's check out this assumption!\n",
    "a=data[['loan_limit', 'rate_of_interest','Interest_rate_spread','Upfront_charges', 'property_value','LTV', 'dtir1','Status']]"
   ]
  },
  {
   "cell_type": "code",
   "execution_count": 10,
   "id": "f030a0b9-7397-4c5f-99bf-f7e927abea40",
   "metadata": {},
   "outputs": [
    {
     "name": "stdout",
     "output_type": "stream",
     "text": [
      "Assumption confirmed: 36439 rows contain null values for all 3 features. It is a perfect match!\n"
     ]
    }
   ],
   "source": [
    "#Select and count only the rows where 'rate_of_interest' AND 'Interest_rate_spread' AND 'Upfront_charges' are null values\n",
    "b=a[(a['Status'] == 1) & (a['rate_of_interest'].isnull()) & (a['Interest_rate_spread'].isnull()) & (a['Upfront_charges'].isnull())]\n",
    "print(f\"Assumption confirmed: {b.shape[0]} rows contain null values for all 3 features. It is a perfect match!\") "
   ]
  },
  {
   "cell_type": "code",
   "execution_count": null,
   "id": "ce3b9c50-59ac-4f46-9ef8-671a1a558592",
   "metadata": {},
   "outputs": [],
   "source": []
  },
  {
   "cell_type": "markdown",
   "id": "2637b10e-83a4-48b7-82c7-412815c14f44",
   "metadata": {},
   "source": [
    "**Suggestion 1 for preprocessing: remove the columns ['rate_of_interest','Interest_rate_spread','Upfront_charges'] from the features. Why? If we kept those columns as features, they would create an imbalance. Those features would only \"influence\" the Class 0, never the Class 1. I therefore suggest to treat those 3 columns as targets instead. Based on the outcome of our prediction, we (the bank) will define contractually the interest rate, spread and upfront charges applicable to a customer if and only if the loan has been approved. How? By running a linear regression (or another model) only in the case where our first model (the classification) returns an approval to the applicant loan request.**"
   ]
  },
  {
   "cell_type": "code",
   "execution_count": 11,
   "id": "e8656756-007e-4bd9-b6b8-c5fb001c8f55",
   "metadata": {},
   "outputs": [
    {
     "name": "stdout",
     "output_type": "stream",
     "text": [
      "Class 1 Defaulted loans: 15096 missing property values Class 0 Performing loans: 2 missing property values only\n"
     ]
    }
   ],
   "source": [
    "#Let's move on to the columns 'property_value' and 'LTV'!\n",
    "c=a[(a['Status'] == 0) & (a['property_value'].isnull())] \n",
    "d=a[(a['Status'] == 1) & (a['property_value'].isnull())] \n",
    "print(f\"Class 1 Defaulted loans: {d.shape[0]} missing property values Class 0 Performing loans: {c.shape[0]} missing property values only\")"
   ]
  },
  {
   "cell_type": "code",
   "execution_count": 12,
   "id": "13a64b7b-8b5c-49db-bfe6-c7c7908c0c19",
   "metadata": {},
   "outputs": [
    {
     "name": "stdout",
     "output_type": "stream",
     "text": [
      "Class 1 Defaulted loans: 21543 with property values properly filled in\n"
     ]
    }
   ],
   "source": [
    "#Let's check if we have class 1 defaulted loans with property values properly filled in\n",
    "e = a[(a['Status'] == 1) & (a['property_value'].isnull() == False)]\n",
    "print(f\"Class 1 Defaulted loans: {e.shape[0]} with property values properly filled in\")"
   ]
  },
  {
   "cell_type": "markdown",
   "id": "d3b085bb-12da-419b-a2e0-df8e6e7ae88f",
   "metadata": {},
   "source": [
    "Partial conclusion: out of 36639 Class 1 defaulted loans, 15096 have a missing property value, 21543 do not."
   ]
  },
  {
   "cell_type": "code",
   "execution_count": 13,
   "id": "2c4c9818-7580-49a5-96df-a632f456a461",
   "metadata": {},
   "outputs": [],
   "source": [
    "#Assumption: the Class 1 defaulted loans with missing property values are not real estate loans. Let's check this out by looking at the columns\n",
    "#related to the type or purpose of the loan: \"loan_type','loan_purpose' and 'business_or_commercial'"
   ]
  },
  {
   "cell_type": "code",
   "execution_count": 14,
   "id": "31e557ae-5920-4436-9002-12bd1960f75f",
   "metadata": {
    "scrolled": true
   },
   "outputs": [
    {
     "name": "stdout",
     "output_type": "stream",
     "text": [
      "loan_type\n",
      "type1    25775\n",
      "type2     7172\n",
      "type3     3692\n",
      "Name: count, dtype: int64\n",
      "___________________\n",
      "loan_purpose\n",
      "p3    13996\n",
      "p4    12590\n",
      "p1     8935\n",
      "p2     1083\n",
      "Name: count, dtype: int64\n",
      "___________________\n",
      "business_or_commercial\n",
      "nob/c    29467\n",
      "b/c       7172\n",
      "Name: count, dtype: int64\n",
      "___________________\n"
     ]
    }
   ],
   "source": [
    "loan_type_columns=['loan_type','loan_purpose','business_or_commercial']\n",
    "for element in loan_type_columns:\n",
    "    f=data[(data['Status'] == 1)][element]\n",
    "    print(f.value_counts())\n",
    "    print(\"___________________\")"
   ]
  },
  {
   "cell_type": "markdown",
   "id": "3f0727dc-da26-4510-83de-fe2658af4545",
   "metadata": {},
   "source": [
    "Partial conclusion: there is no obvious link. We need to find another angle."
   ]
  },
  {
   "cell_type": "code",
   "execution_count": 15,
   "id": "16b42fdc-93bd-4764-b600-fe443be1aa42",
   "metadata": {
    "scrolled": true
   },
   "outputs": [
    {
     "data": {
      "text/html": [
       "<div>\n",
       "<style scoped>\n",
       "    .dataframe tbody tr th:only-of-type {\n",
       "        vertical-align: middle;\n",
       "    }\n",
       "\n",
       "    .dataframe tbody tr th {\n",
       "        vertical-align: top;\n",
       "    }\n",
       "\n",
       "    .dataframe thead th {\n",
       "        text-align: right;\n",
       "    }\n",
       "</style>\n",
       "<table border=\"1\" class=\"dataframe\">\n",
       "  <thead>\n",
       "    <tr style=\"text-align: right;\">\n",
       "      <th></th>\n",
       "      <th>ID</th>\n",
       "      <th>year</th>\n",
       "      <th>loan_limit</th>\n",
       "      <th>Gender</th>\n",
       "      <th>approv_in_adv</th>\n",
       "      <th>loan_type</th>\n",
       "      <th>loan_purpose</th>\n",
       "      <th>Credit_Worthiness</th>\n",
       "      <th>open_credit</th>\n",
       "      <th>business_or_commercial</th>\n",
       "      <th>...</th>\n",
       "      <th>credit_type</th>\n",
       "      <th>Credit_Score</th>\n",
       "      <th>co-applicant_credit_type</th>\n",
       "      <th>age</th>\n",
       "      <th>submission_of_application</th>\n",
       "      <th>LTV</th>\n",
       "      <th>Region</th>\n",
       "      <th>Security_Type</th>\n",
       "      <th>Status</th>\n",
       "      <th>dtir1</th>\n",
       "    </tr>\n",
       "  </thead>\n",
       "  <tbody>\n",
       "    <tr>\n",
       "      <th>1</th>\n",
       "      <td>24891</td>\n",
       "      <td>2019</td>\n",
       "      <td>cf</td>\n",
       "      <td>Male</td>\n",
       "      <td>nopre</td>\n",
       "      <td>type2</td>\n",
       "      <td>p1</td>\n",
       "      <td>l1</td>\n",
       "      <td>nopc</td>\n",
       "      <td>b/c</td>\n",
       "      <td>...</td>\n",
       "      <td>EQUI</td>\n",
       "      <td>552</td>\n",
       "      <td>EXP</td>\n",
       "      <td>55-64</td>\n",
       "      <td>to_inst</td>\n",
       "      <td>NaN</td>\n",
       "      <td>North</td>\n",
       "      <td>direct</td>\n",
       "      <td>1</td>\n",
       "      <td>NaN</td>\n",
       "    </tr>\n",
       "    <tr>\n",
       "      <th>26</th>\n",
       "      <td>24916</td>\n",
       "      <td>2019</td>\n",
       "      <td>cf</td>\n",
       "      <td>Joint</td>\n",
       "      <td>nopre</td>\n",
       "      <td>type3</td>\n",
       "      <td>p1</td>\n",
       "      <td>l1</td>\n",
       "      <td>nopc</td>\n",
       "      <td>nob/c</td>\n",
       "      <td>...</td>\n",
       "      <td>EQUI</td>\n",
       "      <td>518</td>\n",
       "      <td>EXP</td>\n",
       "      <td>45-54</td>\n",
       "      <td>to_inst</td>\n",
       "      <td>NaN</td>\n",
       "      <td>south</td>\n",
       "      <td>direct</td>\n",
       "      <td>1</td>\n",
       "      <td>NaN</td>\n",
       "    </tr>\n",
       "    <tr>\n",
       "      <th>42</th>\n",
       "      <td>24932</td>\n",
       "      <td>2019</td>\n",
       "      <td>cf</td>\n",
       "      <td>Male</td>\n",
       "      <td>nopre</td>\n",
       "      <td>type3</td>\n",
       "      <td>p4</td>\n",
       "      <td>l1</td>\n",
       "      <td>nopc</td>\n",
       "      <td>nob/c</td>\n",
       "      <td>...</td>\n",
       "      <td>EQUI</td>\n",
       "      <td>765</td>\n",
       "      <td>EXP</td>\n",
       "      <td>45-54</td>\n",
       "      <td>to_inst</td>\n",
       "      <td>NaN</td>\n",
       "      <td>North</td>\n",
       "      <td>direct</td>\n",
       "      <td>1</td>\n",
       "      <td>NaN</td>\n",
       "    </tr>\n",
       "    <tr>\n",
       "      <th>52</th>\n",
       "      <td>24942</td>\n",
       "      <td>2019</td>\n",
       "      <td>cf</td>\n",
       "      <td>Joint</td>\n",
       "      <td>nopre</td>\n",
       "      <td>type3</td>\n",
       "      <td>p3</td>\n",
       "      <td>l1</td>\n",
       "      <td>nopc</td>\n",
       "      <td>nob/c</td>\n",
       "      <td>...</td>\n",
       "      <td>EQUI</td>\n",
       "      <td>555</td>\n",
       "      <td>EXP</td>\n",
       "      <td>65-74</td>\n",
       "      <td>to_inst</td>\n",
       "      <td>NaN</td>\n",
       "      <td>North</td>\n",
       "      <td>direct</td>\n",
       "      <td>1</td>\n",
       "      <td>NaN</td>\n",
       "    </tr>\n",
       "    <tr>\n",
       "      <th>53</th>\n",
       "      <td>24943</td>\n",
       "      <td>2019</td>\n",
       "      <td>ncf</td>\n",
       "      <td>Female</td>\n",
       "      <td>nopre</td>\n",
       "      <td>type1</td>\n",
       "      <td>p3</td>\n",
       "      <td>l1</td>\n",
       "      <td>nopc</td>\n",
       "      <td>nob/c</td>\n",
       "      <td>...</td>\n",
       "      <td>EQUI</td>\n",
       "      <td>603</td>\n",
       "      <td>EXP</td>\n",
       "      <td>65-74</td>\n",
       "      <td>to_inst</td>\n",
       "      <td>NaN</td>\n",
       "      <td>North</td>\n",
       "      <td>direct</td>\n",
       "      <td>1</td>\n",
       "      <td>NaN</td>\n",
       "    </tr>\n",
       "    <tr>\n",
       "      <th>...</th>\n",
       "      <td>...</td>\n",
       "      <td>...</td>\n",
       "      <td>...</td>\n",
       "      <td>...</td>\n",
       "      <td>...</td>\n",
       "      <td>...</td>\n",
       "      <td>...</td>\n",
       "      <td>...</td>\n",
       "      <td>...</td>\n",
       "      <td>...</td>\n",
       "      <td>...</td>\n",
       "      <td>...</td>\n",
       "      <td>...</td>\n",
       "      <td>...</td>\n",
       "      <td>...</td>\n",
       "      <td>...</td>\n",
       "      <td>...</td>\n",
       "      <td>...</td>\n",
       "      <td>...</td>\n",
       "      <td>...</td>\n",
       "      <td>...</td>\n",
       "    </tr>\n",
       "    <tr>\n",
       "      <th>148644</th>\n",
       "      <td>173534</td>\n",
       "      <td>2019</td>\n",
       "      <td>cf</td>\n",
       "      <td>Joint</td>\n",
       "      <td>nopre</td>\n",
       "      <td>type1</td>\n",
       "      <td>p3</td>\n",
       "      <td>l1</td>\n",
       "      <td>nopc</td>\n",
       "      <td>nob/c</td>\n",
       "      <td>...</td>\n",
       "      <td>EQUI</td>\n",
       "      <td>846</td>\n",
       "      <td>EXP</td>\n",
       "      <td>&gt;74</td>\n",
       "      <td>to_inst</td>\n",
       "      <td>NaN</td>\n",
       "      <td>south</td>\n",
       "      <td>direct</td>\n",
       "      <td>1</td>\n",
       "      <td>NaN</td>\n",
       "    </tr>\n",
       "    <tr>\n",
       "      <th>148649</th>\n",
       "      <td>173539</td>\n",
       "      <td>2019</td>\n",
       "      <td>cf</td>\n",
       "      <td>Sex Not Available</td>\n",
       "      <td>nopre</td>\n",
       "      <td>type1</td>\n",
       "      <td>p3</td>\n",
       "      <td>l1</td>\n",
       "      <td>nopc</td>\n",
       "      <td>nob/c</td>\n",
       "      <td>...</td>\n",
       "      <td>EQUI</td>\n",
       "      <td>703</td>\n",
       "      <td>EXP</td>\n",
       "      <td>55-64</td>\n",
       "      <td>to_inst</td>\n",
       "      <td>NaN</td>\n",
       "      <td>south</td>\n",
       "      <td>direct</td>\n",
       "      <td>1</td>\n",
       "      <td>NaN</td>\n",
       "    </tr>\n",
       "    <tr>\n",
       "      <th>148652</th>\n",
       "      <td>173542</td>\n",
       "      <td>2019</td>\n",
       "      <td>cf</td>\n",
       "      <td>Male</td>\n",
       "      <td>nopre</td>\n",
       "      <td>type1</td>\n",
       "      <td>p1</td>\n",
       "      <td>l1</td>\n",
       "      <td>nopc</td>\n",
       "      <td>nob/c</td>\n",
       "      <td>...</td>\n",
       "      <td>EQUI</td>\n",
       "      <td>608</td>\n",
       "      <td>EXP</td>\n",
       "      <td>55-64</td>\n",
       "      <td>to_inst</td>\n",
       "      <td>NaN</td>\n",
       "      <td>North</td>\n",
       "      <td>direct</td>\n",
       "      <td>1</td>\n",
       "      <td>NaN</td>\n",
       "    </tr>\n",
       "    <tr>\n",
       "      <th>148658</th>\n",
       "      <td>173548</td>\n",
       "      <td>2019</td>\n",
       "      <td>cf</td>\n",
       "      <td>Sex Not Available</td>\n",
       "      <td>nopre</td>\n",
       "      <td>type1</td>\n",
       "      <td>p4</td>\n",
       "      <td>l1</td>\n",
       "      <td>nopc</td>\n",
       "      <td>nob/c</td>\n",
       "      <td>...</td>\n",
       "      <td>EQUI</td>\n",
       "      <td>669</td>\n",
       "      <td>EXP</td>\n",
       "      <td>25-34</td>\n",
       "      <td>to_inst</td>\n",
       "      <td>NaN</td>\n",
       "      <td>south</td>\n",
       "      <td>direct</td>\n",
       "      <td>1</td>\n",
       "      <td>NaN</td>\n",
       "    </tr>\n",
       "    <tr>\n",
       "      <th>148663</th>\n",
       "      <td>173553</td>\n",
       "      <td>2019</td>\n",
       "      <td>cf</td>\n",
       "      <td>Male</td>\n",
       "      <td>nopre</td>\n",
       "      <td>type2</td>\n",
       "      <td>p1</td>\n",
       "      <td>l1</td>\n",
       "      <td>nopc</td>\n",
       "      <td>b/c</td>\n",
       "      <td>...</td>\n",
       "      <td>EQUI</td>\n",
       "      <td>619</td>\n",
       "      <td>EXP</td>\n",
       "      <td>&lt;25</td>\n",
       "      <td>to_inst</td>\n",
       "      <td>NaN</td>\n",
       "      <td>North</td>\n",
       "      <td>direct</td>\n",
       "      <td>1</td>\n",
       "      <td>NaN</td>\n",
       "    </tr>\n",
       "  </tbody>\n",
       "</table>\n",
       "<p>15096 rows × 34 columns</p>\n",
       "</div>"
      ],
      "text/plain": [
       "            ID  year loan_limit             Gender approv_in_adv loan_type  \\\n",
       "1        24891  2019         cf               Male         nopre     type2   \n",
       "26       24916  2019         cf              Joint         nopre     type3   \n",
       "42       24932  2019         cf               Male         nopre     type3   \n",
       "52       24942  2019         cf              Joint         nopre     type3   \n",
       "53       24943  2019        ncf             Female         nopre     type1   \n",
       "...        ...   ...        ...                ...           ...       ...   \n",
       "148644  173534  2019         cf              Joint         nopre     type1   \n",
       "148649  173539  2019         cf  Sex Not Available         nopre     type1   \n",
       "148652  173542  2019         cf               Male         nopre     type1   \n",
       "148658  173548  2019         cf  Sex Not Available         nopre     type1   \n",
       "148663  173553  2019         cf               Male         nopre     type2   \n",
       "\n",
       "       loan_purpose Credit_Worthiness open_credit business_or_commercial  ...  \\\n",
       "1                p1                l1        nopc                    b/c  ...   \n",
       "26               p1                l1        nopc                  nob/c  ...   \n",
       "42               p4                l1        nopc                  nob/c  ...   \n",
       "52               p3                l1        nopc                  nob/c  ...   \n",
       "53               p3                l1        nopc                  nob/c  ...   \n",
       "...             ...               ...         ...                    ...  ...   \n",
       "148644           p3                l1        nopc                  nob/c  ...   \n",
       "148649           p3                l1        nopc                  nob/c  ...   \n",
       "148652           p1                l1        nopc                  nob/c  ...   \n",
       "148658           p4                l1        nopc                  nob/c  ...   \n",
       "148663           p1                l1        nopc                    b/c  ...   \n",
       "\n",
       "        credit_type  Credit_Score  co-applicant_credit_type    age  \\\n",
       "1              EQUI           552                       EXP  55-64   \n",
       "26             EQUI           518                       EXP  45-54   \n",
       "42             EQUI           765                       EXP  45-54   \n",
       "52             EQUI           555                       EXP  65-74   \n",
       "53             EQUI           603                       EXP  65-74   \n",
       "...             ...           ...                       ...    ...   \n",
       "148644         EQUI           846                       EXP    >74   \n",
       "148649         EQUI           703                       EXP  55-64   \n",
       "148652         EQUI           608                       EXP  55-64   \n",
       "148658         EQUI           669                       EXP  25-34   \n",
       "148663         EQUI           619                       EXP    <25   \n",
       "\n",
       "        submission_of_application LTV Region Security_Type  Status dtir1  \n",
       "1                         to_inst NaN  North        direct       1   NaN  \n",
       "26                        to_inst NaN  south        direct       1   NaN  \n",
       "42                        to_inst NaN  North        direct       1   NaN  \n",
       "52                        to_inst NaN  North        direct       1   NaN  \n",
       "53                        to_inst NaN  North        direct       1   NaN  \n",
       "...                           ...  ..    ...           ...     ...   ...  \n",
       "148644                    to_inst NaN  south        direct       1   NaN  \n",
       "148649                    to_inst NaN  south        direct       1   NaN  \n",
       "148652                    to_inst NaN  North        direct       1   NaN  \n",
       "148658                    to_inst NaN  south        direct       1   NaN  \n",
       "148663                    to_inst NaN  North        direct       1   NaN  \n",
       "\n",
       "[15096 rows x 34 columns]"
      ]
     },
     "execution_count": 15,
     "metadata": {},
     "output_type": "execute_result"
    }
   ],
   "source": [
    "data[(data['Status']==1) & (data['property_value'].isnull())]"
   ]
  },
  {
   "cell_type": "markdown",
   "id": "d376806c-e76a-4b5f-8d60-5d6e594285c0",
   "metadata": {},
   "source": [
    "We observe visually that the column 'credit_type' only has EQUI values. That is a hint!"
   ]
  },
  {
   "cell_type": "code",
   "execution_count": 19,
   "id": "e396641d-1e6c-4d43-8048-2c01070db002",
   "metadata": {},
   "outputs": [
    {
     "data": {
      "text/html": [
       "<div>\n",
       "<style scoped>\n",
       "    .dataframe tbody tr th:only-of-type {\n",
       "        vertical-align: middle;\n",
       "    }\n",
       "\n",
       "    .dataframe tbody tr th {\n",
       "        vertical-align: top;\n",
       "    }\n",
       "\n",
       "    .dataframe thead th {\n",
       "        text-align: right;\n",
       "    }\n",
       "</style>\n",
       "<table border=\"1\" class=\"dataframe\">\n",
       "  <thead>\n",
       "    <tr style=\"text-align: right;\">\n",
       "      <th></th>\n",
       "      <th>credit_type</th>\n",
       "      <th>Status</th>\n",
       "    </tr>\n",
       "  </thead>\n",
       "  <tbody>\n",
       "    <tr>\n",
       "      <th>1</th>\n",
       "      <td>EQUI</td>\n",
       "      <td>1</td>\n",
       "    </tr>\n",
       "    <tr>\n",
       "      <th>26</th>\n",
       "      <td>EQUI</td>\n",
       "      <td>1</td>\n",
       "    </tr>\n",
       "    <tr>\n",
       "      <th>42</th>\n",
       "      <td>EQUI</td>\n",
       "      <td>1</td>\n",
       "    </tr>\n",
       "    <tr>\n",
       "      <th>52</th>\n",
       "      <td>EQUI</td>\n",
       "      <td>1</td>\n",
       "    </tr>\n",
       "    <tr>\n",
       "      <th>53</th>\n",
       "      <td>EQUI</td>\n",
       "      <td>1</td>\n",
       "    </tr>\n",
       "    <tr>\n",
       "      <th>...</th>\n",
       "      <td>...</td>\n",
       "      <td>...</td>\n",
       "    </tr>\n",
       "    <tr>\n",
       "      <th>148644</th>\n",
       "      <td>EQUI</td>\n",
       "      <td>1</td>\n",
       "    </tr>\n",
       "    <tr>\n",
       "      <th>148649</th>\n",
       "      <td>EQUI</td>\n",
       "      <td>1</td>\n",
       "    </tr>\n",
       "    <tr>\n",
       "      <th>148652</th>\n",
       "      <td>EQUI</td>\n",
       "      <td>1</td>\n",
       "    </tr>\n",
       "    <tr>\n",
       "      <th>148658</th>\n",
       "      <td>EQUI</td>\n",
       "      <td>1</td>\n",
       "    </tr>\n",
       "    <tr>\n",
       "      <th>148663</th>\n",
       "      <td>EQUI</td>\n",
       "      <td>1</td>\n",
       "    </tr>\n",
       "  </tbody>\n",
       "</table>\n",
       "<p>15297 rows × 2 columns</p>\n",
       "</div>"
      ],
      "text/plain": [
       "       credit_type  Status\n",
       "1             EQUI       1\n",
       "26            EQUI       1\n",
       "42            EQUI       1\n",
       "52            EQUI       1\n",
       "53            EQUI       1\n",
       "...            ...     ...\n",
       "148644        EQUI       1\n",
       "148649        EQUI       1\n",
       "148652        EQUI       1\n",
       "148658        EQUI       1\n",
       "148663        EQUI       1\n",
       "\n",
       "[15297 rows x 2 columns]"
      ]
     },
     "execution_count": 19,
     "metadata": {},
     "output_type": "execute_result"
    }
   ],
   "source": [
    "data[['credit_type','Status']][(data['Status']==1) & (data['credit_type']=='EQUI')]"
   ]
  },
  {
   "cell_type": "code",
   "execution_count": 21,
   "id": "5a60b0e3-f97d-41c8-b6b2-3283775f5f43",
   "metadata": {},
   "outputs": [
    {
     "data": {
      "text/html": [
       "<div>\n",
       "<style scoped>\n",
       "    .dataframe tbody tr th:only-of-type {\n",
       "        vertical-align: middle;\n",
       "    }\n",
       "\n",
       "    .dataframe tbody tr th {\n",
       "        vertical-align: top;\n",
       "    }\n",
       "\n",
       "    .dataframe thead th {\n",
       "        text-align: right;\n",
       "    }\n",
       "</style>\n",
       "<table border=\"1\" class=\"dataframe\">\n",
       "  <thead>\n",
       "    <tr style=\"text-align: right;\">\n",
       "      <th></th>\n",
       "      <th>credit_type</th>\n",
       "      <th>Status</th>\n",
       "    </tr>\n",
       "  </thead>\n",
       "  <tbody>\n",
       "    <tr>\n",
       "      <th>0</th>\n",
       "      <td>EXP</td>\n",
       "      <td>1</td>\n",
       "    </tr>\n",
       "    <tr>\n",
       "      <th>10</th>\n",
       "      <td>EXP</td>\n",
       "      <td>1</td>\n",
       "    </tr>\n",
       "    <tr>\n",
       "      <th>12</th>\n",
       "      <td>CRIF</td>\n",
       "      <td>1</td>\n",
       "    </tr>\n",
       "    <tr>\n",
       "      <th>15</th>\n",
       "      <td>EXP</td>\n",
       "      <td>1</td>\n",
       "    </tr>\n",
       "    <tr>\n",
       "      <th>16</th>\n",
       "      <td>CRIF</td>\n",
       "      <td>1</td>\n",
       "    </tr>\n",
       "    <tr>\n",
       "      <th>...</th>\n",
       "      <td>...</td>\n",
       "      <td>...</td>\n",
       "    </tr>\n",
       "    <tr>\n",
       "      <th>148634</th>\n",
       "      <td>EXP</td>\n",
       "      <td>1</td>\n",
       "    </tr>\n",
       "    <tr>\n",
       "      <th>148646</th>\n",
       "      <td>CIB</td>\n",
       "      <td>1</td>\n",
       "    </tr>\n",
       "    <tr>\n",
       "      <th>148650</th>\n",
       "      <td>EXP</td>\n",
       "      <td>1</td>\n",
       "    </tr>\n",
       "    <tr>\n",
       "      <th>148651</th>\n",
       "      <td>EXP</td>\n",
       "      <td>1</td>\n",
       "    </tr>\n",
       "    <tr>\n",
       "      <th>148661</th>\n",
       "      <td>EXP</td>\n",
       "      <td>1</td>\n",
       "    </tr>\n",
       "  </tbody>\n",
       "</table>\n",
       "<p>21342 rows × 2 columns</p>\n",
       "</div>"
      ],
      "text/plain": [
       "       credit_type  Status\n",
       "0              EXP       1\n",
       "10             EXP       1\n",
       "12            CRIF       1\n",
       "15             EXP       1\n",
       "16            CRIF       1\n",
       "...            ...     ...\n",
       "148634         EXP       1\n",
       "148646         CIB       1\n",
       "148650         EXP       1\n",
       "148651         EXP       1\n",
       "148661         EXP       1\n",
       "\n",
       "[21342 rows x 2 columns]"
      ]
     },
     "execution_count": 21,
     "metadata": {},
     "output_type": "execute_result"
    }
   ],
   "source": [
    "data[['credit_type','Status']][(data['Status']==1) & (data['credit_type']!='EQUI')]"
   ]
  },
  {
   "cell_type": "code",
   "execution_count": 17,
   "id": "d8849dde-21d9-4b5c-90d4-452145f463e4",
   "metadata": {},
   "outputs": [
    {
     "data": {
      "text/plain": [
       "credit_type\n",
       "CIB     48152\n",
       "CRIF    43901\n",
       "EXP     41319\n",
       "EQUI    15298\n",
       "Name: count, dtype: int64"
      ]
     },
     "execution_count": 17,
     "metadata": {},
     "output_type": "execute_result"
    }
   ],
   "source": [
    "#Let's check out the value distribution in that column for the complete dataset (i.e. not focusing on Class 1 non-performing loans)\n",
    "data['credit_type'].value_counts()"
   ]
  },
  {
   "cell_type": "markdown",
   "id": "cb0c0dcc-94e4-49d8-a814-83d7c905ec4a",
   "metadata": {},
   "source": [
    "It seems the value 'EQUI' in the column 'credit_type' correlates almost exactly with missing values in the 'property_value' column. Let's zoom on the 'EQUI' values to be sure!"
   ]
  },
  {
   "cell_type": "code",
   "execution_count": 18,
   "id": "22f8053f-db63-400e-8298-c7177cc7be2d",
   "metadata": {},
   "outputs": [
    {
     "name": "stdout",
     "output_type": "stream",
     "text": [
      "Class 1 Defaulted loans with missing property values, how many are 'EQUI'? Answer: 15096\n"
     ]
    }
   ],
   "source": [
    "g=data[(data['Status']==1) & (data['property_value'].isnull()) & (data['credit_type']=='EQUI')]\n",
    "print(f\"Class 1 Defaulted loans with missing property values, how many are 'EQUI'? Answer: {g.shape[0]}\")"
   ]
  },
  {
   "cell_type": "markdown",
   "id": "3f5f17db-0def-42d0-86aa-0b4a7b5badd5",
   "metadata": {},
   "source": [
    "A Google search indicates the following: \"Equifax Inc. is an American multinational consumer credit reporting agency headquartered in Atlanta, Georgia and is one of the three largest consumer credit reporting agencies, along with Experian and TransUnion (together known as the \"Big Three\")\"\n",
    "\n",
    "Assumption: EQUI does not provide the property value for defaulted loans whereas the 3 other credit bureaus (CIB, CRIF and EXP) do."
   ]
  },
  {
   "cell_type": "code",
   "execution_count": 19,
   "id": "f244301e-a3d5-4bf8-8f47-8843fa88bc13",
   "metadata": {},
   "outputs": [
    {
     "name": "stdout",
     "output_type": "stream",
     "text": [
      "Class 1 Defaulted loans with missing property values, how many are not'EQUI'? Answer: 21342\n"
     ]
    }
   ],
   "source": [
    "property_value_filled_in=data[(data['Status']==1) & (data['credit_type']=='CIB')][['credit_type']].shape[0]+data[(data['Status']==1) & (data['credit_type']=='CRIF')][['credit_type']].shape[0] +data[(data['Status']==1) & (data['credit_type']=='EXP')][['credit_type']].shape[0]\n",
    "print(f\"Class 1 Defaulted loans with missing property values, how many are not'EQUI'? Answer: {property_value_filled_in}\")"
   ]
  },
  {
   "cell_type": "markdown",
   "id": "db33609b-68ed-479d-8f9b-8e00b00381c3",
   "metadata": {},
   "source": [
    "From the 21543 values actually filled in the column 'property_value', 21342 come from the bureaus CIB, CRIF and EXP. A plausible explanation is simply that unlike the 3 other bureaus, EQUI simply does not provide this information."
   ]
  },
  {
   "cell_type": "markdown",
   "id": "678d08bc-805f-494b-8bce-0866df08745f",
   "metadata": {},
   "source": [
    "**Suggestion 2 for preprocessing: keep the column 'property_value' and remove the missing values in it.\n",
    "We can apply the same method to the column 'LTV' (Loan-to-Value) which is equal to 'loan_amount' / 'property_value' as there are no missing values in 'loan_amount'**"
   ]
  },
  {
   "cell_type": "code",
   "execution_count": 20,
   "id": "03450a7c-b994-46ca-9ccf-73fccf06b950",
   "metadata": {
    "scrolled": true
   },
   "outputs": [
    {
     "name": "stdout",
     "output_type": "stream",
     "text": [
      "Class 1 Defaulted loans with missing 'dtir1', how many are 'EQUI'? Answer: 15296\n"
     ]
    }
   ],
   "source": [
    "#Now let's move on to the last column with missing values > 2.5%, which is 'dtir1' (Debt-to-Income_Ratio).\n",
    "h=data[(data['dtir1'].isnull()) & (data['Status']==1)  & (data['credit_type']=='EQUI')]\n",
    "print(f\"Class 1 Defaulted loans with missing 'dtir1', how many are 'EQUI'? Answer: {h.shape[0]}\")"
   ]
  },
  {
   "cell_type": "code",
   "execution_count": 21,
   "id": "4deea15d-13af-487b-bf67-98ade1a4675b",
   "metadata": {
    "scrolled": true
   },
   "outputs": [
    {
     "name": "stdout",
     "output_type": "stream",
     "text": [
      "Class 1 Defaulted loans with missing 'dtir1', how many are 'p4'? Answer: 8817\n"
     ]
    }
   ],
   "source": [
    "#Now let's take a look at the column loan_purpose as it appears visually that all missing 'dtir1' have 'p4' in that column.\n",
    "i=data[(data['dtir1'].isnull()) & (data['loan_purpose'] == 'p4') & ~(data['credit_type'] =='EQUI')]\n",
    "print(f\"Class 1 Defaulted loans with missing 'dtir1', how many are 'p4'? Answer: {i.shape[0]}\")"
   ]
  },
  {
   "cell_type": "markdown",
   "id": "13bdd286-a554-4eef-bc3f-93f20a66bc7e",
   "metadata": {},
   "source": [
    "We have a total of 8817+15296=24113 which matches almost entirely all missing values in 'dtir1.'"
   ]
  },
  {
   "cell_type": "markdown",
   "id": "d12e2be4-9ccb-49e8-914f-20ee480417da",
   "metadata": {
    "scrolled": true
   },
   "source": [
    "**Suggestion 3 for preprocessing: keep the column 'dtir1' and remove the missing values in it. De facto we are withdrawing \"only\" another (24113-15296)=8817 rows, as we already suggested to remove 15296 EQUI values.** "
   ]
  },
  {
   "cell_type": "markdown",
   "id": "b9562ae5-1134-40c8-8ffc-fbef97fa03e3",
   "metadata": {},
   "source": [
    "# Base model"
   ]
  },
  {
   "cell_type": "code",
   "execution_count": 22,
   "id": "483692e9-4284-46a1-a96e-a40623cf4f46",
   "metadata": {},
   "outputs": [],
   "source": [
    "#import package_folder.preprocessor\n",
    "from package_folder.preprocessor import clean_data\n",
    "from package_folder.preprocessor import encode_categorical"
   ]
  },
  {
   "cell_type": "code",
   "execution_count": 23,
   "id": "e5daac98",
   "metadata": {},
   "outputs": [
    {
     "data": {
      "text/plain": [
       "\"#Load model\\nimport pickle\\n\\n# Adjust the path to your .pkl file\\nwith open('path_to_your_file.pkl', 'rb') as file:\\n    model = pickle.load(file)\\n\\n# Display some information about the loaded object\\nprint(model)\""
      ]
     },
     "execution_count": 23,
     "metadata": {},
     "output_type": "execute_result"
    }
   ],
   "source": [
    "'''#Load model\n",
    "import pickle\n",
    "\n",
    "# Adjust the path to your .pkl file\n",
    "with open('path_to_your_file.pkl', 'rb') as file:\n",
    "    model = pickle.load(file)\n",
    "\n",
    "# Display some information about the loaded object\n",
    "print(model)'''"
   ]
  },
  {
   "cell_type": "code",
   "execution_count": 24,
   "id": "a38d0c2e",
   "metadata": {},
   "outputs": [
    {
     "name": "stdout",
     "output_type": "stream",
     "text": [
      "✅Categorical variables encoded successfully.\n"
     ]
    },
    {
     "data": {
      "text/plain": [
       "(138356, 64)"
      ]
     },
     "execution_count": 24,
     "metadata": {},
     "output_type": "execute_result"
    }
   ],
   "source": [
    "#Let's try a new approach: remove columns with a lot of missing values & highly correlated with 1 status (\"loan not approved\")\n",
    "data_light=data.drop(columns=['loan_limit', 'rate_of_interest','Interest_rate_spread','Upfront_charges', 'property_value','LTV', 'dtir1'])\n",
    "data_light_brutally_cleaned=data_light.dropna()\n",
    "data_encoded_with_Gilian=encode_categorical(data_light_brutally_cleaned)\n",
    "data_encoded_with_Gilian.shape"
   ]
  },
  {
   "cell_type": "code",
   "execution_count": 25,
   "id": "b54ca23d-d72f-4a08-9e06-3bf699d542d4",
   "metadata": {},
   "outputs": [],
   "source": [
    "#Create X and y\n",
    "X=data_encoded_with_Gilian.drop(columns='Status')\n",
    "y=data_encoded_with_Gilian['Status']"
   ]
  },
  {
   "cell_type": "code",
   "execution_count": 26,
   "id": "08f27ca6-50bd-4a39-8bd7-4bc983faa544",
   "metadata": {},
   "outputs": [],
   "source": [
    "from sklearn.preprocessing import RobustScaler\n",
    "scaler = RobustScaler()\n",
    "scaler.fit(X) \n",
    "X_scaled= scaler.transform(X)"
   ]
  },
  {
   "cell_type": "code",
   "execution_count": 27,
   "id": "62d37633-2573-4ab4-8c01-ad30a9203217",
   "metadata": {},
   "outputs": [
    {
     "data": {
      "text/plain": [
       "(138356, 63)"
      ]
     },
     "execution_count": 27,
     "metadata": {},
     "output_type": "execute_result"
    }
   ],
   "source": [
    "X_scaled.shape"
   ]
  },
  {
   "cell_type": "code",
   "execution_count": 28,
   "id": "6c25ef2c-6ead-4b8e-87d6-12f0c98de631",
   "metadata": {},
   "outputs": [
    {
     "data": {
      "text/html": [
       "<div>\n",
       "<style scoped>\n",
       "    .dataframe tbody tr th:only-of-type {\n",
       "        vertical-align: middle;\n",
       "    }\n",
       "\n",
       "    .dataframe tbody tr th {\n",
       "        vertical-align: top;\n",
       "    }\n",
       "\n",
       "    .dataframe thead th {\n",
       "        text-align: right;\n",
       "    }\n",
       "</style>\n",
       "<table border=\"1\" class=\"dataframe\">\n",
       "  <thead>\n",
       "    <tr style=\"text-align: right;\">\n",
       "      <th></th>\n",
       "      <th>ID</th>\n",
       "      <th>year</th>\n",
       "      <th>loan_amount</th>\n",
       "      <th>term</th>\n",
       "      <th>income</th>\n",
       "      <th>Credit_Score</th>\n",
       "      <th>Gender_Female</th>\n",
       "      <th>Gender_Joint</th>\n",
       "      <th>Gender_Male</th>\n",
       "      <th>Gender_Sex Not Available</th>\n",
       "      <th>...</th>\n",
       "      <th>age_&lt;25</th>\n",
       "      <th>age_&gt;74</th>\n",
       "      <th>submission_of_application_not_inst</th>\n",
       "      <th>submission_of_application_to_inst</th>\n",
       "      <th>Region_North</th>\n",
       "      <th>Region_North-East</th>\n",
       "      <th>Region_central</th>\n",
       "      <th>Region_south</th>\n",
       "      <th>Security_Type_Indriect</th>\n",
       "      <th>Security_Type_direct</th>\n",
       "    </tr>\n",
       "  </thead>\n",
       "  <tbody>\n",
       "    <tr>\n",
       "      <th>0</th>\n",
       "      <td>-0.997366</td>\n",
       "      <td>0.0</td>\n",
       "      <td>-0.750</td>\n",
       "      <td>0.0</td>\n",
       "      <td>-0.8375</td>\n",
       "      <td>0.295</td>\n",
       "      <td>0.0</td>\n",
       "      <td>0.0</td>\n",
       "      <td>0.0</td>\n",
       "      <td>1.0</td>\n",
       "      <td>...</td>\n",
       "      <td>0.0</td>\n",
       "      <td>0.0</td>\n",
       "      <td>0.0</td>\n",
       "      <td>0.0</td>\n",
       "      <td>-1.0</td>\n",
       "      <td>0.0</td>\n",
       "      <td>0.0</td>\n",
       "      <td>1.0</td>\n",
       "      <td>0.0</td>\n",
       "      <td>0.0</td>\n",
       "    </tr>\n",
       "    <tr>\n",
       "      <th>1</th>\n",
       "      <td>-0.997352</td>\n",
       "      <td>0.0</td>\n",
       "      <td>-0.375</td>\n",
       "      <td>0.0</td>\n",
       "      <td>-0.1625</td>\n",
       "      <td>-0.735</td>\n",
       "      <td>0.0</td>\n",
       "      <td>0.0</td>\n",
       "      <td>1.0</td>\n",
       "      <td>0.0</td>\n",
       "      <td>...</td>\n",
       "      <td>0.0</td>\n",
       "      <td>0.0</td>\n",
       "      <td>0.0</td>\n",
       "      <td>0.0</td>\n",
       "      <td>0.0</td>\n",
       "      <td>0.0</td>\n",
       "      <td>0.0</td>\n",
       "      <td>0.0</td>\n",
       "      <td>0.0</td>\n",
       "      <td>0.0</td>\n",
       "    </tr>\n",
       "  </tbody>\n",
       "</table>\n",
       "<p>2 rows × 63 columns</p>\n",
       "</div>"
      ],
      "text/plain": [
       "         ID  year  loan_amount  term  income  Credit_Score  Gender_Female  \\\n",
       "0 -0.997366   0.0       -0.750   0.0 -0.8375         0.295            0.0   \n",
       "1 -0.997352   0.0       -0.375   0.0 -0.1625        -0.735            0.0   \n",
       "\n",
       "   Gender_Joint  Gender_Male  Gender_Sex Not Available  ...  age_<25  age_>74  \\\n",
       "0           0.0          0.0                       1.0  ...      0.0      0.0   \n",
       "1           0.0          1.0                       0.0  ...      0.0      0.0   \n",
       "\n",
       "   submission_of_application_not_inst  submission_of_application_to_inst  \\\n",
       "0                                 0.0                                0.0   \n",
       "1                                 0.0                                0.0   \n",
       "\n",
       "   Region_North  Region_North-East  Region_central  Region_south  \\\n",
       "0          -1.0                0.0             0.0           1.0   \n",
       "1           0.0                0.0             0.0           0.0   \n",
       "\n",
       "   Security_Type_Indriect  Security_Type_direct  \n",
       "0                     0.0                   0.0  \n",
       "1                     0.0                   0.0  \n",
       "\n",
       "[2 rows x 63 columns]"
      ]
     },
     "execution_count": 28,
     "metadata": {},
     "output_type": "execute_result"
    }
   ],
   "source": [
    "df=pd.DataFrame(X_scaled,columns=X.columns)\n",
    "df.head(2)"
   ]
  },
  {
   "cell_type": "code",
   "execution_count": 29,
   "id": "52a656f2-3b4f-4260-b9aa-179e8d0b0fa7",
   "metadata": {
    "scrolled": true
   },
   "outputs": [
    {
     "name": "stderr",
     "output_type": "stream",
     "text": [
      "/home/yann/.pyenv/versions/3.10.6/envs/automated_loan_review_project/lib/python3.10/site-packages/sklearn/linear_model/_logistic.py:469: ConvergenceWarning: lbfgs failed to converge (status=1):\n",
      "STOP: TOTAL NO. of ITERATIONS REACHED LIMIT.\n",
      "\n",
      "Increase the number of iterations (max_iter) or scale the data as shown in:\n",
      "    https://scikit-learn.org/stable/modules/preprocessing.html\n",
      "Please also refer to the documentation for alternative solver options:\n",
      "    https://scikit-learn.org/stable/modules/linear_model.html#logistic-regression\n",
      "  n_iter_i = _check_optimize_result(\n",
      "/home/yann/.pyenv/versions/3.10.6/envs/automated_loan_review_project/lib/python3.10/site-packages/sklearn/linear_model/_logistic.py:469: ConvergenceWarning: lbfgs failed to converge (status=1):\n",
      "STOP: TOTAL NO. of ITERATIONS REACHED LIMIT.\n",
      "\n",
      "Increase the number of iterations (max_iter) or scale the data as shown in:\n",
      "    https://scikit-learn.org/stable/modules/preprocessing.html\n",
      "Please also refer to the documentation for alternative solver options:\n",
      "    https://scikit-learn.org/stable/modules/linear_model.html#logistic-regression\n",
      "  n_iter_i = _check_optimize_result(\n",
      "/home/yann/.pyenv/versions/3.10.6/envs/automated_loan_review_project/lib/python3.10/site-packages/sklearn/linear_model/_logistic.py:469: ConvergenceWarning: lbfgs failed to converge (status=1):\n",
      "STOP: TOTAL NO. of ITERATIONS REACHED LIMIT.\n",
      "\n",
      "Increase the number of iterations (max_iter) or scale the data as shown in:\n",
      "    https://scikit-learn.org/stable/modules/preprocessing.html\n",
      "Please also refer to the documentation for alternative solver options:\n",
      "    https://scikit-learn.org/stable/modules/linear_model.html#logistic-regression\n",
      "  n_iter_i = _check_optimize_result(\n",
      "/home/yann/.pyenv/versions/3.10.6/envs/automated_loan_review_project/lib/python3.10/site-packages/sklearn/linear_model/_logistic.py:469: ConvergenceWarning: lbfgs failed to converge (status=1):\n",
      "STOP: TOTAL NO. of ITERATIONS REACHED LIMIT.\n",
      "\n",
      "Increase the number of iterations (max_iter) or scale the data as shown in:\n",
      "    https://scikit-learn.org/stable/modules/preprocessing.html\n",
      "Please also refer to the documentation for alternative solver options:\n",
      "    https://scikit-learn.org/stable/modules/linear_model.html#logistic-regression\n",
      "  n_iter_i = _check_optimize_result(\n",
      "/home/yann/.pyenv/versions/3.10.6/envs/automated_loan_review_project/lib/python3.10/site-packages/sklearn/linear_model/_logistic.py:469: ConvergenceWarning: lbfgs failed to converge (status=1):\n",
      "STOP: TOTAL NO. of ITERATIONS REACHED LIMIT.\n",
      "\n",
      "Increase the number of iterations (max_iter) or scale the data as shown in:\n",
      "    https://scikit-learn.org/stable/modules/preprocessing.html\n",
      "Please also refer to the documentation for alternative solver options:\n",
      "    https://scikit-learn.org/stable/modules/linear_model.html#logistic-regression\n",
      "  n_iter_i = _check_optimize_result(\n"
     ]
    },
    {
     "data": {
      "text/plain": [
       "0.8614227085447249"
      ]
     },
     "execution_count": 29,
     "metadata": {},
     "output_type": "execute_result"
    }
   ],
   "source": [
    "from sklearn.linear_model import LogisticRegression\n",
    "from sklearn.model_selection import cross_validate\n",
    "model=LogisticRegression()\n",
    "base_model_score=cross_validate(model,X_scaled,y,cv=5)['test_score'].mean()\n",
    "base_model_score"
   ]
  },
  {
   "cell_type": "code",
   "execution_count": 30,
   "id": "0d8c6b35-5b41-4f2c-8494-9877cc79c17a",
   "metadata": {},
   "outputs": [
    {
     "name": "stdout",
     "output_type": "stream",
     "text": [
      "Accuracy of logistic regression model: 0.86\n"
     ]
    }
   ],
   "source": [
    "print(f\"Accuracy of logistic regression model: {round(float(base_model_score),2)}\")"
   ]
  },
  {
   "cell_type": "markdown",
   "id": "5a1b76cb-3624-472d-a5e8-305c9ca8c8ee",
   "metadata": {},
   "source": [
    "# Deep learning model"
   ]
  },
  {
   "cell_type": "markdown",
   "id": "4450c89d-b060-4023-82a9-7d9eba4b5c99",
   "metadata": {},
   "source": [
    "## First iteration: basic split, Dense Layers only"
   ]
  },
  {
   "cell_type": "code",
   "execution_count": 31,
   "id": "88814b84-2617-42e2-aeb6-18c50c5d3bf4",
   "metadata": {},
   "outputs": [
    {
     "name": "stderr",
     "output_type": "stream",
     "text": [
      "2024-11-01 12:27:39.760777: I external/local_xla/xla/tsl/cuda/cudart_stub.cc:32] Could not find cuda drivers on your machine, GPU will not be used.\n",
      "2024-11-01 12:27:39.765808: I external/local_xla/xla/tsl/cuda/cudart_stub.cc:32] Could not find cuda drivers on your machine, GPU will not be used.\n",
      "2024-11-01 12:27:39.776174: E external/local_xla/xla/stream_executor/cuda/cuda_fft.cc:477] Unable to register cuFFT factory: Attempting to register factory for plugin cuFFT when one has already been registered\n",
      "WARNING: All log messages before absl::InitializeLog() is called are written to STDERR\n",
      "E0000 00:00:1730460459.792769   54541 cuda_dnn.cc:8310] Unable to register cuDNN factory: Attempting to register factory for plugin cuDNN when one has already been registered\n",
      "E0000 00:00:1730460459.797464   54541 cuda_blas.cc:1418] Unable to register cuBLAS factory: Attempting to register factory for plugin cuBLAS when one has already been registered\n",
      "2024-11-01 12:27:39.815331: I tensorflow/core/platform/cpu_feature_guard.cc:210] This TensorFlow binary is optimized to use available CPU instructions in performance-critical operations.\n",
      "To enable the following instructions: AVX2 FMA, in other operations, rebuild TensorFlow with the appropriate compiler flags.\n"
     ]
    }
   ],
   "source": [
    "from tensorflow.keras.models import Sequential\n",
    "from tensorflow.keras import layers"
   ]
  },
  {
   "cell_type": "code",
   "execution_count": 47,
   "id": "bcf0a58a-3199-467c-b613-56e597e0049d",
   "metadata": {},
   "outputs": [
    {
     "name": "stdout",
     "output_type": "stream",
     "text": [
      "X_train:(100000, 63) X_test: (38356, 63) y_train: (100000,) y_test:(38356,)\n"
     ]
    }
   ],
   "source": [
    "#Split data\n",
    "X_train=X_scaled[0:100000]\n",
    "X_test=X_scaled[100000:]\n",
    "y_train=y[0:100000]\n",
    "y_test=y[100000:]\n",
    "print(f\"X_train:{X_train.shape} X_test: {X_test.shape} y_train: {y_train.shape} y_test:{y_test.shape}\")"
   ]
  },
  {
   "cell_type": "code",
   "execution_count": 36,
   "id": "fbd3eaba-f88b-47db-bb40-20a69942e427",
   "metadata": {},
   "outputs": [
    {
     "name": "stderr",
     "output_type": "stream",
     "text": [
      "/home/yann/.pyenv/versions/3.10.6/envs/automated_loan_review_project/lib/python3.10/site-packages/keras/src/layers/core/dense.py:87: UserWarning: Do not pass an `input_shape`/`input_dim` argument to a layer. When using Sequential models, prefer using an `Input(shape)` object as the first layer in the model instead.\n",
      "  super().__init__(activity_regularizer=activity_regularizer, **kwargs)\n"
     ]
    },
    {
     "data": {
      "text/html": [
       "<pre style=\"white-space:pre;overflow-x:auto;line-height:normal;font-family:Menlo,'DejaVu Sans Mono',consolas,'Courier New',monospace\"><span style=\"font-weight: bold\">Model: \"sequential_1\"</span>\n",
       "</pre>\n"
      ],
      "text/plain": [
       "\u001b[1mModel: \"sequential_1\"\u001b[0m\n"
      ]
     },
     "metadata": {},
     "output_type": "display_data"
    },
    {
     "data": {
      "text/html": [
       "<pre style=\"white-space:pre;overflow-x:auto;line-height:normal;font-family:Menlo,'DejaVu Sans Mono',consolas,'Courier New',monospace\">┏━━━━━━━━━━━━━━━━━━━━━━━━━━━━━━━━━┳━━━━━━━━━━━━━━━━━━━━━━━━┳━━━━━━━━━━━━━━━┓\n",
       "┃<span style=\"font-weight: bold\"> Layer (type)                    </span>┃<span style=\"font-weight: bold\"> Output Shape           </span>┃<span style=\"font-weight: bold\">       Param # </span>┃\n",
       "┡━━━━━━━━━━━━━━━━━━━━━━━━━━━━━━━━━╇━━━━━━━━━━━━━━━━━━━━━━━━╇━━━━━━━━━━━━━━━┩\n",
       "│ dense_3 (<span style=\"color: #0087ff; text-decoration-color: #0087ff\">Dense</span>)                 │ (<span style=\"color: #00d7ff; text-decoration-color: #00d7ff\">None</span>, <span style=\"color: #00af00; text-decoration-color: #00af00\">20</span>)             │         <span style=\"color: #00af00; text-decoration-color: #00af00\">1,280</span> │\n",
       "├─────────────────────────────────┼────────────────────────┼───────────────┤\n",
       "│ dense_4 (<span style=\"color: #0087ff; text-decoration-color: #0087ff\">Dense</span>)                 │ (<span style=\"color: #00d7ff; text-decoration-color: #00d7ff\">None</span>, <span style=\"color: #00af00; text-decoration-color: #00af00\">10</span>)             │           <span style=\"color: #00af00; text-decoration-color: #00af00\">210</span> │\n",
       "├─────────────────────────────────┼────────────────────────┼───────────────┤\n",
       "│ dense_5 (<span style=\"color: #0087ff; text-decoration-color: #0087ff\">Dense</span>)                 │ (<span style=\"color: #00d7ff; text-decoration-color: #00d7ff\">None</span>, <span style=\"color: #00af00; text-decoration-color: #00af00\">1</span>)              │            <span style=\"color: #00af00; text-decoration-color: #00af00\">11</span> │\n",
       "└─────────────────────────────────┴────────────────────────┴───────────────┘\n",
       "</pre>\n"
      ],
      "text/plain": [
       "┏━━━━━━━━━━━━━━━━━━━━━━━━━━━━━━━━━┳━━━━━━━━━━━━━━━━━━━━━━━━┳━━━━━━━━━━━━━━━┓\n",
       "┃\u001b[1m \u001b[0m\u001b[1mLayer (type)                   \u001b[0m\u001b[1m \u001b[0m┃\u001b[1m \u001b[0m\u001b[1mOutput Shape          \u001b[0m\u001b[1m \u001b[0m┃\u001b[1m \u001b[0m\u001b[1m      Param #\u001b[0m\u001b[1m \u001b[0m┃\n",
       "┡━━━━━━━━━━━━━━━━━━━━━━━━━━━━━━━━━╇━━━━━━━━━━━━━━━━━━━━━━━━╇━━━━━━━━━━━━━━━┩\n",
       "│ dense_3 (\u001b[38;5;33mDense\u001b[0m)                 │ (\u001b[38;5;45mNone\u001b[0m, \u001b[38;5;34m20\u001b[0m)             │         \u001b[38;5;34m1,280\u001b[0m │\n",
       "├─────────────────────────────────┼────────────────────────┼───────────────┤\n",
       "│ dense_4 (\u001b[38;5;33mDense\u001b[0m)                 │ (\u001b[38;5;45mNone\u001b[0m, \u001b[38;5;34m10\u001b[0m)             │           \u001b[38;5;34m210\u001b[0m │\n",
       "├─────────────────────────────────┼────────────────────────┼───────────────┤\n",
       "│ dense_5 (\u001b[38;5;33mDense\u001b[0m)                 │ (\u001b[38;5;45mNone\u001b[0m, \u001b[38;5;34m1\u001b[0m)              │            \u001b[38;5;34m11\u001b[0m │\n",
       "└─────────────────────────────────┴────────────────────────┴───────────────┘\n"
      ]
     },
     "metadata": {},
     "output_type": "display_data"
    },
    {
     "data": {
      "text/html": [
       "<pre style=\"white-space:pre;overflow-x:auto;line-height:normal;font-family:Menlo,'DejaVu Sans Mono',consolas,'Courier New',monospace\"><span style=\"font-weight: bold\"> Total params: </span><span style=\"color: #00af00; text-decoration-color: #00af00\">1,501</span> (5.86 KB)\n",
       "</pre>\n"
      ],
      "text/plain": [
       "\u001b[1m Total params: \u001b[0m\u001b[38;5;34m1,501\u001b[0m (5.86 KB)\n"
      ]
     },
     "metadata": {},
     "output_type": "display_data"
    },
    {
     "data": {
      "text/html": [
       "<pre style=\"white-space:pre;overflow-x:auto;line-height:normal;font-family:Menlo,'DejaVu Sans Mono',consolas,'Courier New',monospace\"><span style=\"font-weight: bold\"> Trainable params: </span><span style=\"color: #00af00; text-decoration-color: #00af00\">1,501</span> (5.86 KB)\n",
       "</pre>\n"
      ],
      "text/plain": [
       "\u001b[1m Trainable params: \u001b[0m\u001b[38;5;34m1,501\u001b[0m (5.86 KB)\n"
      ]
     },
     "metadata": {},
     "output_type": "display_data"
    },
    {
     "data": {
      "text/html": [
       "<pre style=\"white-space:pre;overflow-x:auto;line-height:normal;font-family:Menlo,'DejaVu Sans Mono',consolas,'Courier New',monospace\"><span style=\"font-weight: bold\"> Non-trainable params: </span><span style=\"color: #00af00; text-decoration-color: #00af00\">0</span> (0.00 B)\n",
       "</pre>\n"
      ],
      "text/plain": [
       "\u001b[1m Non-trainable params: \u001b[0m\u001b[38;5;34m0\u001b[0m (0.00 B)\n"
      ]
     },
     "metadata": {},
     "output_type": "display_data"
    }
   ],
   "source": [
    "# Model definition\n",
    "model = Sequential()\n",
    "model.add(layers.Dense(20, activation='relu', input_dim=63))\t\t\n",
    "model.add(layers.Dense(10, activation='relu'))\t\t\t\n",
    "model.add(layers.Dense(1, activation='sigmoid'))  \n",
    "model.summary()\t"
   ]
  },
  {
   "cell_type": "code",
   "execution_count": 38,
   "id": "8bcae7bd-9660-476d-8919-de534bb79697",
   "metadata": {},
   "outputs": [],
   "source": [
    "#Compile model\n",
    "model.compile(\n",
    "    optimizer='adam', \n",
    "    loss='binary_crossentropy',\n",
    "    metrics = ['accuracy'])"
   ]
  },
  {
   "cell_type": "code",
   "execution_count": 39,
   "id": "408724b8-46ac-4f0c-8275-7d8f3ee950f0",
   "metadata": {},
   "outputs": [
    {
     "name": "stdout",
     "output_type": "stream",
     "text": [
      "Epoch 1/10\n",
      "\u001b[1m6250/6250\u001b[0m \u001b[32m━━━━━━━━━━━━━━━━━━━━\u001b[0m\u001b[37m\u001b[0m \u001b[1m22s\u001b[0m 3ms/step - accuracy: 0.8347 - loss: 0.4825\n",
      "Epoch 2/10\n",
      "\u001b[1m6250/6250\u001b[0m \u001b[32m━━━━━━━━━━━━━━━━━━━━\u001b[0m\u001b[37m\u001b[0m \u001b[1m20s\u001b[0m 3ms/step - accuracy: 0.8642 - loss: 0.3507\n",
      "Epoch 3/10\n",
      "\u001b[1m6250/6250\u001b[0m \u001b[32m━━━━━━━━━━━━━━━━━━━━\u001b[0m\u001b[37m\u001b[0m \u001b[1m20s\u001b[0m 3ms/step - accuracy: 0.8698 - loss: 0.3422\n",
      "Epoch 4/10\n",
      "\u001b[1m6250/6250\u001b[0m \u001b[32m━━━━━━━━━━━━━━━━━━━━\u001b[0m\u001b[37m\u001b[0m \u001b[1m20s\u001b[0m 3ms/step - accuracy: 0.8712 - loss: 0.3377\n",
      "Epoch 5/10\n",
      "\u001b[1m6250/6250\u001b[0m \u001b[32m━━━━━━━━━━━━━━━━━━━━\u001b[0m\u001b[37m\u001b[0m \u001b[1m20s\u001b[0m 3ms/step - accuracy: 0.8720 - loss: 0.3357\n",
      "Epoch 6/10\n",
      "\u001b[1m6250/6250\u001b[0m \u001b[32m━━━━━━━━━━━━━━━━━━━━\u001b[0m\u001b[37m\u001b[0m \u001b[1m21s\u001b[0m 3ms/step - accuracy: 0.8721 - loss: 0.3356\n",
      "Epoch 7/10\n",
      "\u001b[1m6250/6250\u001b[0m \u001b[32m━━━━━━━━━━━━━━━━━━━━\u001b[0m\u001b[37m\u001b[0m \u001b[1m20s\u001b[0m 3ms/step - accuracy: 0.8737 - loss: 0.3301\n",
      "Epoch 8/10\n",
      "\u001b[1m6250/6250\u001b[0m \u001b[32m━━━━━━━━━━━━━━━━━━━━\u001b[0m\u001b[37m\u001b[0m \u001b[1m21s\u001b[0m 3ms/step - accuracy: 0.8727 - loss: 0.3331\n",
      "Epoch 9/10\n",
      "\u001b[1m6250/6250\u001b[0m \u001b[32m━━━━━━━━━━━━━━━━━━━━\u001b[0m\u001b[37m\u001b[0m \u001b[1m20s\u001b[0m 3ms/step - accuracy: 0.8742 - loss: 0.3299\n",
      "Epoch 10/10\n",
      "\u001b[1m6250/6250\u001b[0m \u001b[32m━━━━━━━━━━━━━━━━━━━━\u001b[0m\u001b[37m\u001b[0m \u001b[1m21s\u001b[0m 3ms/step - accuracy: 0.8728 - loss: 0.3324\n"
     ]
    }
   ],
   "source": [
    "#Train model\n",
    "history = model.fit(X_train, y_train, batch_size=16, epochs=10)"
   ]
  },
  {
   "cell_type": "code",
   "execution_count": 52,
   "id": "5396018c-c9ce-402d-a5b8-a6369ff6514b",
   "metadata": {},
   "outputs": [
    {
     "name": "stderr",
     "output_type": "stream",
     "text": [
      "/home/yann/.pyenv/versions/3.10.6/envs/automated_loan_review_project/lib/python3.10/site-packages/sklearn/base.py:493: UserWarning: X does not have valid feature names, but RobustScaler was fitted with feature names\n",
      "  warnings.warn(\n"
     ]
    },
    {
     "name": "stdout",
     "output_type": "stream",
     "text": [
      "\u001b[1m1199/1199\u001b[0m \u001b[32m━━━━━━━━━━━━━━━━━━━━\u001b[0m\u001b[37m\u001b[0m \u001b[1m4s\u001b[0m 3ms/step - accuracy: 0.2572 - loss: 1007.4326\n"
     ]
    },
    {
     "data": {
      "text/plain": [
       "[1009.374267578125, 0.2557878792285919]"
      ]
     },
     "execution_count": 52,
     "metadata": {},
     "output_type": "execute_result"
    }
   ],
   "source": [
    "model.evaluate(scaler.transform(X_test), y_test) "
   ]
  },
  {
   "cell_type": "markdown",
   "id": "a0dff008-9a95-4b2d-b22b-c65303ecd316",
   "metadata": {},
   "source": [
    "## Regularized model with drop out layers, early stop & shuffled dataset"
   ]
  },
  {
   "cell_type": "code",
   "execution_count": 64,
   "id": "bd922787-a921-4df1-b15c-1a31a005fe4b",
   "metadata": {},
   "outputs": [],
   "source": [
    "from sklearn.utils import shuffle\n",
    "from tensorflow.keras.callbacks import EarlyStopping"
   ]
  },
  {
   "cell_type": "code",
   "execution_count": 59,
   "id": "02e5e2b6-92ce-482f-b982-fab4332ea9da",
   "metadata": {},
   "outputs": [],
   "source": [
    "# Shuffle the dataset\n",
    "df = shuffle(data_encoded_with_Gilian)  \n",
    "\n",
    "# Define the split ratio\n",
    "split_ratio = 0.8\n",
    "\n",
    "# Calculate the split index\n",
    "split_index = int(split_ratio * len(df))\n",
    "\n",
    "# Split the data\n",
    "train_df = df[:split_index]\n",
    "test_df = df[split_index:]\n",
    "\n",
    "# Separate features and target\n",
    "X_train = train_df.drop('Status', axis=1)\n",
    "y_train = train_df['Status']\n",
    "X_test = test_df.drop('Status', axis=1)\n",
    "y_test = test_df['Status']"
   ]
  },
  {
   "cell_type": "code",
   "execution_count": 65,
   "id": "51e2d0b1-6422-4d0c-81f1-f5dae6b9221b",
   "metadata": {},
   "outputs": [],
   "source": [
    "#Early stopping\n",
    "es = EarlyStopping(patience=5)"
   ]
  },
  {
   "cell_type": "code",
   "execution_count": 61,
   "id": "44da14d5-4101-4580-a308-b51656a1ef98",
   "metadata": {},
   "outputs": [
    {
     "name": "stderr",
     "output_type": "stream",
     "text": [
      "/home/yann/.pyenv/versions/3.10.6/envs/automated_loan_review_project/lib/python3.10/site-packages/keras/src/layers/core/dense.py:87: UserWarning: Do not pass an `input_shape`/`input_dim` argument to a layer. When using Sequential models, prefer using an `Input(shape)` object as the first layer in the model instead.\n",
      "  super().__init__(activity_regularizer=activity_regularizer, **kwargs)\n"
     ]
    },
    {
     "data": {
      "text/html": [
       "<pre style=\"white-space:pre;overflow-x:auto;line-height:normal;font-family:Menlo,'DejaVu Sans Mono',consolas,'Courier New',monospace\"><span style=\"font-weight: bold\">Model: \"sequential_2\"</span>\n",
       "</pre>\n"
      ],
      "text/plain": [
       "\u001b[1mModel: \"sequential_2\"\u001b[0m\n"
      ]
     },
     "metadata": {},
     "output_type": "display_data"
    },
    {
     "data": {
      "text/html": [
       "<pre style=\"white-space:pre;overflow-x:auto;line-height:normal;font-family:Menlo,'DejaVu Sans Mono',consolas,'Courier New',monospace\">┏━━━━━━━━━━━━━━━━━━━━━━━━━━━━━━━━━┳━━━━━━━━━━━━━━━━━━━━━━━━┳━━━━━━━━━━━━━━━┓\n",
       "┃<span style=\"font-weight: bold\"> Layer (type)                    </span>┃<span style=\"font-weight: bold\"> Output Shape           </span>┃<span style=\"font-weight: bold\">       Param # </span>┃\n",
       "┡━━━━━━━━━━━━━━━━━━━━━━━━━━━━━━━━━╇━━━━━━━━━━━━━━━━━━━━━━━━╇━━━━━━━━━━━━━━━┩\n",
       "│ dense_6 (<span style=\"color: #0087ff; text-decoration-color: #0087ff\">Dense</span>)                 │ (<span style=\"color: #00d7ff; text-decoration-color: #00d7ff\">None</span>, <span style=\"color: #00af00; text-decoration-color: #00af00\">20</span>)             │         <span style=\"color: #00af00; text-decoration-color: #00af00\">1,280</span> │\n",
       "├─────────────────────────────────┼────────────────────────┼───────────────┤\n",
       "│ dropout (<span style=\"color: #0087ff; text-decoration-color: #0087ff\">Dropout</span>)               │ (<span style=\"color: #00d7ff; text-decoration-color: #00d7ff\">None</span>, <span style=\"color: #00af00; text-decoration-color: #00af00\">20</span>)             │             <span style=\"color: #00af00; text-decoration-color: #00af00\">0</span> │\n",
       "├─────────────────────────────────┼────────────────────────┼───────────────┤\n",
       "│ dense_7 (<span style=\"color: #0087ff; text-decoration-color: #0087ff\">Dense</span>)                 │ (<span style=\"color: #00d7ff; text-decoration-color: #00d7ff\">None</span>, <span style=\"color: #00af00; text-decoration-color: #00af00\">10</span>)             │           <span style=\"color: #00af00; text-decoration-color: #00af00\">210</span> │\n",
       "├─────────────────────────────────┼────────────────────────┼───────────────┤\n",
       "│ dropout_1 (<span style=\"color: #0087ff; text-decoration-color: #0087ff\">Dropout</span>)             │ (<span style=\"color: #00d7ff; text-decoration-color: #00d7ff\">None</span>, <span style=\"color: #00af00; text-decoration-color: #00af00\">10</span>)             │             <span style=\"color: #00af00; text-decoration-color: #00af00\">0</span> │\n",
       "├─────────────────────────────────┼────────────────────────┼───────────────┤\n",
       "│ dense_8 (<span style=\"color: #0087ff; text-decoration-color: #0087ff\">Dense</span>)                 │ (<span style=\"color: #00d7ff; text-decoration-color: #00d7ff\">None</span>, <span style=\"color: #00af00; text-decoration-color: #00af00\">1</span>)              │            <span style=\"color: #00af00; text-decoration-color: #00af00\">11</span> │\n",
       "└─────────────────────────────────┴────────────────────────┴───────────────┘\n",
       "</pre>\n"
      ],
      "text/plain": [
       "┏━━━━━━━━━━━━━━━━━━━━━━━━━━━━━━━━━┳━━━━━━━━━━━━━━━━━━━━━━━━┳━━━━━━━━━━━━━━━┓\n",
       "┃\u001b[1m \u001b[0m\u001b[1mLayer (type)                   \u001b[0m\u001b[1m \u001b[0m┃\u001b[1m \u001b[0m\u001b[1mOutput Shape          \u001b[0m\u001b[1m \u001b[0m┃\u001b[1m \u001b[0m\u001b[1m      Param #\u001b[0m\u001b[1m \u001b[0m┃\n",
       "┡━━━━━━━━━━━━━━━━━━━━━━━━━━━━━━━━━╇━━━━━━━━━━━━━━━━━━━━━━━━╇━━━━━━━━━━━━━━━┩\n",
       "│ dense_6 (\u001b[38;5;33mDense\u001b[0m)                 │ (\u001b[38;5;45mNone\u001b[0m, \u001b[38;5;34m20\u001b[0m)             │         \u001b[38;5;34m1,280\u001b[0m │\n",
       "├─────────────────────────────────┼────────────────────────┼───────────────┤\n",
       "│ dropout (\u001b[38;5;33mDropout\u001b[0m)               │ (\u001b[38;5;45mNone\u001b[0m, \u001b[38;5;34m20\u001b[0m)             │             \u001b[38;5;34m0\u001b[0m │\n",
       "├─────────────────────────────────┼────────────────────────┼───────────────┤\n",
       "│ dense_7 (\u001b[38;5;33mDense\u001b[0m)                 │ (\u001b[38;5;45mNone\u001b[0m, \u001b[38;5;34m10\u001b[0m)             │           \u001b[38;5;34m210\u001b[0m │\n",
       "├─────────────────────────────────┼────────────────────────┼───────────────┤\n",
       "│ dropout_1 (\u001b[38;5;33mDropout\u001b[0m)             │ (\u001b[38;5;45mNone\u001b[0m, \u001b[38;5;34m10\u001b[0m)             │             \u001b[38;5;34m0\u001b[0m │\n",
       "├─────────────────────────────────┼────────────────────────┼───────────────┤\n",
       "│ dense_8 (\u001b[38;5;33mDense\u001b[0m)                 │ (\u001b[38;5;45mNone\u001b[0m, \u001b[38;5;34m1\u001b[0m)              │            \u001b[38;5;34m11\u001b[0m │\n",
       "└─────────────────────────────────┴────────────────────────┴───────────────┘\n"
      ]
     },
     "metadata": {},
     "output_type": "display_data"
    },
    {
     "data": {
      "text/html": [
       "<pre style=\"white-space:pre;overflow-x:auto;line-height:normal;font-family:Menlo,'DejaVu Sans Mono',consolas,'Courier New',monospace\"><span style=\"font-weight: bold\"> Total params: </span><span style=\"color: #00af00; text-decoration-color: #00af00\">1,501</span> (5.86 KB)\n",
       "</pre>\n"
      ],
      "text/plain": [
       "\u001b[1m Total params: \u001b[0m\u001b[38;5;34m1,501\u001b[0m (5.86 KB)\n"
      ]
     },
     "metadata": {},
     "output_type": "display_data"
    },
    {
     "data": {
      "text/html": [
       "<pre style=\"white-space:pre;overflow-x:auto;line-height:normal;font-family:Menlo,'DejaVu Sans Mono',consolas,'Courier New',monospace\"><span style=\"font-weight: bold\"> Trainable params: </span><span style=\"color: #00af00; text-decoration-color: #00af00\">1,501</span> (5.86 KB)\n",
       "</pre>\n"
      ],
      "text/plain": [
       "\u001b[1m Trainable params: \u001b[0m\u001b[38;5;34m1,501\u001b[0m (5.86 KB)\n"
      ]
     },
     "metadata": {},
     "output_type": "display_data"
    },
    {
     "data": {
      "text/html": [
       "<pre style=\"white-space:pre;overflow-x:auto;line-height:normal;font-family:Menlo,'DejaVu Sans Mono',consolas,'Courier New',monospace\"><span style=\"font-weight: bold\"> Non-trainable params: </span><span style=\"color: #00af00; text-decoration-color: #00af00\">0</span> (0.00 B)\n",
       "</pre>\n"
      ],
      "text/plain": [
       "\u001b[1m Non-trainable params: \u001b[0m\u001b[38;5;34m0\u001b[0m (0.00 B)\n"
      ]
     },
     "metadata": {},
     "output_type": "display_data"
    }
   ],
   "source": [
    "# Model definition\n",
    "model = Sequential()\n",
    "model.add(layers.Dense(20, activation='relu', input_dim=63))\n",
    "model.add(layers.Dropout(0.5))\n",
    "model.add(layers.Dense(10, activation='relu'))\t\n",
    "model.add(layers.Dropout(0.5))\n",
    "model.add(layers.Dense(1, activation='sigmoid'))  \n",
    "model.summary()\t"
   ]
  },
  {
   "cell_type": "code",
   "execution_count": 62,
   "id": "3bf3b90d-d15a-4a98-a1a1-ec5f15b5e89e",
   "metadata": {},
   "outputs": [],
   "source": [
    "#Compile model\n",
    "model.compile(\n",
    "    optimizer='adam', \n",
    "    loss='binary_crossentropy',\n",
    "    metrics = ['accuracy'])"
   ]
  },
  {
   "cell_type": "code",
   "execution_count": 66,
   "id": "0ee03e8e-0caf-41f6-9be6-b93cba52f87b",
   "metadata": {},
   "outputs": [
    {
     "name": "stdout",
     "output_type": "stream",
     "text": [
      "Epoch 1/20\n",
      "\u001b[1m6918/6918\u001b[0m \u001b[32m━━━━━━━━━━━━━━━━━━━━\u001b[0m\u001b[37m\u001b[0m \u001b[1m28s\u001b[0m 4ms/step - accuracy: 0.6835 - loss: 3169.7563 - val_accuracy: 0.7466 - val_loss: 0.5729\n",
      "Epoch 2/20\n",
      "\u001b[1m6918/6918\u001b[0m \u001b[32m━━━━━━━━━━━━━━━━━━━━\u001b[0m\u001b[37m\u001b[0m \u001b[1m26s\u001b[0m 4ms/step - accuracy: 0.7424 - loss: 0.7265 - val_accuracy: 0.7467 - val_loss: 0.5699\n",
      "Epoch 3/20\n",
      "\u001b[1m6918/6918\u001b[0m \u001b[32m━━━━━━━━━━━━━━━━━━━━\u001b[0m\u001b[37m\u001b[0m \u001b[1m26s\u001b[0m 4ms/step - accuracy: 0.7453 - loss: 0.5741 - val_accuracy: 0.7467 - val_loss: 0.5695\n",
      "Epoch 4/20\n",
      "\u001b[1m6918/6918\u001b[0m \u001b[32m━━━━━━━━━━━━━━━━━━━━\u001b[0m\u001b[37m\u001b[0m \u001b[1m25s\u001b[0m 4ms/step - accuracy: 0.7479 - loss: 0.5647 - val_accuracy: 0.7466 - val_loss: 0.5695\n",
      "Epoch 5/20\n",
      "\u001b[1m6918/6918\u001b[0m \u001b[32m━━━━━━━━━━━━━━━━━━━━\u001b[0m\u001b[37m\u001b[0m \u001b[1m26s\u001b[0m 4ms/step - accuracy: 0.7463 - loss: 0.5664 - val_accuracy: 0.7466 - val_loss: 0.5695\n",
      "Epoch 6/20\n",
      "\u001b[1m6918/6918\u001b[0m \u001b[32m━━━━━━━━━━━━━━━━━━━━\u001b[0m\u001b[37m\u001b[0m \u001b[1m27s\u001b[0m 4ms/step - accuracy: 0.7439 - loss: 0.5731 - val_accuracy: 0.7466 - val_loss: 0.5695\n",
      "Epoch 7/20\n",
      "\u001b[1m6918/6918\u001b[0m \u001b[32m━━━━━━━━━━━━━━━━━━━━\u001b[0m\u001b[37m\u001b[0m \u001b[1m26s\u001b[0m 4ms/step - accuracy: 0.7472 - loss: 0.5655 - val_accuracy: 0.7466 - val_loss: 0.5696\n",
      "Epoch 8/20\n",
      "\u001b[1m6918/6918\u001b[0m \u001b[32m━━━━━━━━━━━━━━━━━━━━\u001b[0m\u001b[37m\u001b[0m \u001b[1m26s\u001b[0m 4ms/step - accuracy: 0.7450 - loss: 0.5693 - val_accuracy: 0.7466 - val_loss: 0.5660\n",
      "Epoch 9/20\n",
      "\u001b[1m6918/6918\u001b[0m \u001b[32m━━━━━━━━━━━━━━━━━━━━\u001b[0m\u001b[37m\u001b[0m \u001b[1m26s\u001b[0m 4ms/step - accuracy: 0.7457 - loss: 0.5671 - val_accuracy: 0.7466 - val_loss: 0.5660\n",
      "Epoch 10/20\n",
      "\u001b[1m6918/6918\u001b[0m \u001b[32m━━━━━━━━━━━━━━━━━━━━\u001b[0m\u001b[37m\u001b[0m \u001b[1m27s\u001b[0m 4ms/step - accuracy: 0.7453 - loss: 0.6588 - val_accuracy: 0.7466 - val_loss: 0.5660\n",
      "Epoch 11/20\n",
      "\u001b[1m6918/6918\u001b[0m \u001b[32m━━━━━━━━━━━━━━━━━━━━\u001b[0m\u001b[37m\u001b[0m \u001b[1m27s\u001b[0m 4ms/step - accuracy: 0.7457 - loss: 0.5670 - val_accuracy: 0.7466 - val_loss: 0.5660\n",
      "Epoch 12/20\n",
      "\u001b[1m6918/6918\u001b[0m \u001b[32m━━━━━━━━━━━━━━━━━━━━\u001b[0m\u001b[37m\u001b[0m \u001b[1m28s\u001b[0m 4ms/step - accuracy: 0.7464 - loss: 0.5663 - val_accuracy: 0.7466 - val_loss: 0.5660\n",
      "Epoch 13/20\n",
      "\u001b[1m6918/6918\u001b[0m \u001b[32m━━━━━━━━━━━━━━━━━━━━\u001b[0m\u001b[37m\u001b[0m \u001b[1m29s\u001b[0m 4ms/step - accuracy: 0.7472 - loss: 0.5654 - val_accuracy: 0.7466 - val_loss: 0.5660\n",
      "Epoch 14/20\n",
      "\u001b[1m6918/6918\u001b[0m \u001b[32m━━━━━━━━━━━━━━━━━━━━\u001b[0m\u001b[37m\u001b[0m \u001b[1m28s\u001b[0m 4ms/step - accuracy: 0.7475 - loss: 0.5651 - val_accuracy: 0.7466 - val_loss: 0.5660\n",
      "Epoch 15/20\n",
      "\u001b[1m6918/6918\u001b[0m \u001b[32m━━━━━━━━━━━━━━━━━━━━\u001b[0m\u001b[37m\u001b[0m \u001b[1m28s\u001b[0m 4ms/step - accuracy: 0.7471 - loss: 0.5656 - val_accuracy: 0.7466 - val_loss: 0.5660\n",
      "Epoch 16/20\n",
      "\u001b[1m6918/6918\u001b[0m \u001b[32m━━━━━━━━━━━━━━━━━━━━\u001b[0m\u001b[37m\u001b[0m \u001b[1m30s\u001b[0m 4ms/step - accuracy: 0.7473 - loss: 0.5653 - val_accuracy: 0.7466 - val_loss: 0.5660\n",
      "Epoch 17/20\n",
      "\u001b[1m6918/6918\u001b[0m \u001b[32m━━━━━━━━━━━━━━━━━━━━\u001b[0m\u001b[37m\u001b[0m \u001b[1m29s\u001b[0m 4ms/step - accuracy: 0.7449 - loss: 0.5679 - val_accuracy: 0.7466 - val_loss: 0.5661\n"
     ]
    }
   ],
   "source": [
    "history=model.fit(X_train, y_train, batch_size=16, epochs=20, validation_data=(X_test, y_test), callbacks=[es])"
   ]
  },
  {
   "cell_type": "code",
   "execution_count": 67,
   "id": "3c194a4c-318e-497d-9ea0-d76633939ab1",
   "metadata": {},
   "outputs": [
    {
     "name": "stdout",
     "output_type": "stream",
     "text": [
      "\u001b[1m865/865\u001b[0m \u001b[32m━━━━━━━━━━━━━━━━━━━━\u001b[0m\u001b[37m\u001b[0m \u001b[1m3s\u001b[0m 4ms/step - accuracy: 0.7446 - loss: 0.5736\n"
     ]
    },
    {
     "data": {
      "text/plain": [
       "[0.5722287893295288, 0.7466753125190735]"
      ]
     },
     "execution_count": 67,
     "metadata": {},
     "output_type": "execute_result"
    }
   ],
   "source": [
    "model.evaluate(scaler.transform(X_test), y_test) "
   ]
  },
  {
   "cell_type": "markdown",
   "id": "a0204534-46f1-4b2f-aff5-d78eda82ba46",
   "metadata": {},
   "source": [
    "## Base model v.2 with shuffled dataset"
   ]
  },
  {
   "cell_type": "code",
   "execution_count": 108,
   "id": "09a36040-b594-4646-bc27-42b9fc2ad7b3",
   "metadata": {
    "scrolled": true
   },
   "outputs": [
    {
     "name": "stderr",
     "output_type": "stream",
     "text": [
      "/home/yann/.pyenv/versions/3.10.6/envs/automated_loan_review_project/lib/python3.10/site-packages/sklearn/linear_model/_logistic.py:469: ConvergenceWarning: lbfgs failed to converge (status=1):\n",
      "STOP: TOTAL NO. of ITERATIONS REACHED LIMIT.\n",
      "\n",
      "Increase the number of iterations (max_iter) or scale the data as shown in:\n",
      "    https://scikit-learn.org/stable/modules/preprocessing.html\n",
      "Please also refer to the documentation for alternative solver options:\n",
      "    https://scikit-learn.org/stable/modules/linear_model.html#logistic-regression\n",
      "  n_iter_i = _check_optimize_result(\n"
     ]
    },
    {
     "data": {
      "text/plain": [
       "0.8539679098005204"
      ]
     },
     "execution_count": 108,
     "metadata": {},
     "output_type": "execute_result"
    }
   ],
   "source": [
    "lr_model=LogisticRegression(max_iter=1000)\n",
    "lr_model.fit(X_train,y_train)\n",
    "lr_model.score(X_test,y_test)"
   ]
  },
  {
   "cell_type": "code",
   "execution_count": 109,
   "id": "50345efb-0a55-4c87-8a4a-cd6341937ad3",
   "metadata": {},
   "outputs": [],
   "source": [
    "y_pred=lr_model.predict(X_test)"
   ]
  },
  {
   "cell_type": "code",
   "execution_count": 111,
   "id": "ed7a12b1-1706-4ff3-ba2a-39d07da8c1fc",
   "metadata": {},
   "outputs": [
    {
     "name": "stdout",
     "output_type": "stream",
     "text": [
      "Classification Report:\n",
      "               precision    recall  f1-score   support\n",
      "\n",
      "           0       0.85      0.98      0.91     20661\n",
      "           1       0.88      0.49      0.63      7011\n",
      "\n",
      "    accuracy                           0.85     27672\n",
      "   macro avg       0.86      0.73      0.77     27672\n",
      "weighted avg       0.86      0.85      0.84     27672\n",
      "\n",
      "Confusion Matrix:\n",
      " [[20170   491]\n",
      " [ 3550  3461]]\n"
     ]
    }
   ],
   "source": [
    "# Generate a classification report\n",
    "report = classification_report(y_test, y_pred, target_names=['0','1'])\n",
    "print(\"Classification Report:\\n\", report)\n",
    "\n",
    "# Generate a confusion matrix\n",
    "conf_matrix = confusion_matrix(y_test, y_pred)\n",
    "print(\"Confusion Matrix:\\n\", conf_matrix)"
   ]
  },
  {
   "cell_type": "markdown",
   "id": "f9cbca8b-3b6e-4aad-a023-3275e27e9f7a",
   "metadata": {},
   "source": [
    "# XGBRegressor"
   ]
  },
  {
   "cell_type": "code",
   "execution_count": 90,
   "id": "0d5662b3-980a-45ff-9d62-b6852ef7ccd0",
   "metadata": {},
   "outputs": [],
   "source": [
    "#Remove characters <, > and , in column names\n",
    "column_names = list(X_test.columns)\n",
    "cleaned_column_names = [s.replace('<', 'inf').replace('>', 'sup').replace(',', '') for s in column_names]"
   ]
  },
  {
   "cell_type": "code",
   "execution_count": 97,
   "id": "1a4a13da-1b1e-484d-8bd1-9adba6f44dcf",
   "metadata": {
    "scrolled": true
   },
   "outputs": [],
   "source": [
    "X_train_array = np.array(X_train)\n",
    "X_train_clean_columns=pd.DataFrame(X_train_array,columns=cleaned_column_names)\n",
    "X_test_array = np.array(X_test)\n",
    "X_test_clean_columns=pd.DataFrame(X_test_array,columns=cleaned_column_names)"
   ]
  },
  {
   "cell_type": "code",
   "execution_count": 103,
   "id": "ada19f17-54bd-427e-bb4b-aaeebd4d6caa",
   "metadata": {},
   "outputs": [
    {
     "name": "stdout",
     "output_type": "stream",
     "text": [
      "Accuracy: 0.8720728534258456\n"
     ]
    }
   ],
   "source": [
    "import xgboost as xgb\n",
    "from sklearn.metrics import accuracy_score\n",
    "\n",
    "# Create an XGBoost classifier\n",
    "xgb_clf = xgb.XGBClassifier(objective=\"binary:logistic\", random_state=42) \n",
    "\n",
    "# Train the model\n",
    "xgb_clf.fit(X_train_array, y_train)\n",
    "\n",
    "# Make predictions\n",
    "y_pred = xgb_clf.predict(X_test_array)\n",
    "\n",
    "# Evaluate the model\n",
    "accuracy = accuracy_score(y_test, y_pred)\n",
    "print(f\"Accuracy: {accuracy}\")"
   ]
  },
  {
   "cell_type": "code",
   "execution_count": 107,
   "id": "fda852d0-a769-4a8f-9654-c635fdfacc56",
   "metadata": {},
   "outputs": [
    {
     "name": "stdout",
     "output_type": "stream",
     "text": [
      "Classification Report:\n",
      "               precision    recall  f1-score   support\n",
      "\n",
      "           0       0.86      0.98      0.92     20661\n",
      "           1       0.92      0.54      0.68      7011\n",
      "\n",
      "    accuracy                           0.87     27672\n",
      "   macro avg       0.89      0.76      0.80     27672\n",
      "weighted avg       0.88      0.87      0.86     27672\n",
      "\n",
      "Confusion Matrix:\n",
      " [[20316   345]\n",
      " [ 3195  3816]]\n"
     ]
    }
   ],
   "source": [
    "#Evaluate other metrics than accuracy\n",
    "from sklearn.metrics import classification_report, confusion_matrix\n",
    "\n",
    "# Generate a classification report\n",
    "report = classification_report(y_test, y_pred, target_names=['0','1'])\n",
    "print(\"Classification Report:\\n\", report)\n",
    "\n",
    "# Generate a confusion matrix\n",
    "conf_matrix = confusion_matrix(y_test, y_pred)\n",
    "print(\"Confusion Matrix:\\n\", conf_matrix)"
   ]
  },
  {
   "cell_type": "code",
   "execution_count": null,
   "id": "8ed7765e-7ec5-4fd0-8052-15ee5e25dcc6",
   "metadata": {},
   "outputs": [],
   "source": []
  }
 ],
 "metadata": {
  "celltoolbar": "Aucun(e)",
  "kernelspec": {
   "display_name": "Python 3 (ipykernel)",
   "language": "python",
   "name": "python3"
  },
  "language_info": {
   "codemirror_mode": {
    "name": "ipython",
    "version": 3
   },
   "file_extension": ".py",
   "mimetype": "text/x-python",
   "name": "python",
   "nbconvert_exporter": "python",
   "pygments_lexer": "ipython3",
   "version": "3.10.6"
  },
  "toc": {
   "base_numbering": 1,
   "nav_menu": {},
   "number_sections": true,
   "sideBar": true,
   "skip_h1_title": false,
   "title_cell": "Table of Contents",
   "title_sidebar": "Contents",
   "toc_cell": false,
   "toc_position": {},
   "toc_section_display": true,
   "toc_window_display": false
  }
 },
 "nbformat": 4,
 "nbformat_minor": 5
}
